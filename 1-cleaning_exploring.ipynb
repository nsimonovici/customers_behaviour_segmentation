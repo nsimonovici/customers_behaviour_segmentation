{
 "cells": [
  {
   "cell_type": "code",
   "execution_count": 1,
   "metadata": {},
   "outputs": [
    {
     "data": {
      "text/html": [
       "<style>.container { width:80% !important; }</style>"
      ],
      "text/plain": [
       "<IPython.core.display.HTML object>"
      ]
     },
     "metadata": {},
     "output_type": "display_data"
    }
   ],
   "source": [
    "from IPython.core.display import display, HTML\n",
    "display(HTML(\"<style>.container { width:80% !important; }</style>\"))"
   ]
  },
  {
   "cell_type": "markdown",
   "metadata": {},
   "source": [
    "# 1) Importations"
   ]
  },
  {
   "cell_type": "code",
   "execution_count": 2,
   "metadata": {},
   "outputs": [
    {
     "name": "stdout",
     "output_type": "stream",
     "text": [
      "Populating the interactive namespace from numpy and matplotlib\n"
     ]
    }
   ],
   "source": [
    "%pylab inline\n",
    "import pandas as pd\n",
    "import os\n",
    "import seaborn as sns\n",
    "from sklearn import preprocessing"
   ]
  },
  {
   "cell_type": "markdown",
   "metadata": {},
   "source": [
    "# 2) Open data and look into it"
   ]
  },
  {
   "cell_type": "code",
   "execution_count": 3,
   "metadata": {},
   "outputs": [
    {
     "name": "stdout",
     "output_type": "stream",
     "text": [
      "Loading dataset\n"
     ]
    },
    {
     "data": {
      "text/html": [
       "<div>\n",
       "<style scoped>\n",
       "    .dataframe tbody tr th:only-of-type {\n",
       "        vertical-align: middle;\n",
       "    }\n",
       "\n",
       "    .dataframe tbody tr th {\n",
       "        vertical-align: top;\n",
       "    }\n",
       "\n",
       "    .dataframe thead th {\n",
       "        text-align: right;\n",
       "    }\n",
       "</style>\n",
       "<table border=\"1\" class=\"dataframe\">\n",
       "  <thead>\n",
       "    <tr style=\"text-align: right;\">\n",
       "      <th></th>\n",
       "      <th>InvoiceNo</th>\n",
       "      <th>StockCode</th>\n",
       "      <th>Description</th>\n",
       "      <th>Quantity</th>\n",
       "      <th>InvoiceDate</th>\n",
       "      <th>UnitPrice</th>\n",
       "      <th>CustomerID</th>\n",
       "      <th>Country</th>\n",
       "    </tr>\n",
       "  </thead>\n",
       "  <tbody>\n",
       "    <tr>\n",
       "      <th>0</th>\n",
       "      <td>536365</td>\n",
       "      <td>85123A</td>\n",
       "      <td>WHITE HANGING HEART T-LIGHT HOLDER</td>\n",
       "      <td>6</td>\n",
       "      <td>2010-12-01 08:26:00</td>\n",
       "      <td>2.55</td>\n",
       "      <td>17850.0</td>\n",
       "      <td>United Kingdom</td>\n",
       "    </tr>\n",
       "    <tr>\n",
       "      <th>1</th>\n",
       "      <td>536365</td>\n",
       "      <td>71053</td>\n",
       "      <td>WHITE METAL LANTERN</td>\n",
       "      <td>6</td>\n",
       "      <td>2010-12-01 08:26:00</td>\n",
       "      <td>3.39</td>\n",
       "      <td>17850.0</td>\n",
       "      <td>United Kingdom</td>\n",
       "    </tr>\n",
       "    <tr>\n",
       "      <th>2</th>\n",
       "      <td>536365</td>\n",
       "      <td>84406B</td>\n",
       "      <td>CREAM CUPID HEARTS COAT HANGER</td>\n",
       "      <td>8</td>\n",
       "      <td>2010-12-01 08:26:00</td>\n",
       "      <td>2.75</td>\n",
       "      <td>17850.0</td>\n",
       "      <td>United Kingdom</td>\n",
       "    </tr>\n",
       "    <tr>\n",
       "      <th>3</th>\n",
       "      <td>536365</td>\n",
       "      <td>84029G</td>\n",
       "      <td>KNITTED UNION FLAG HOT WATER BOTTLE</td>\n",
       "      <td>6</td>\n",
       "      <td>2010-12-01 08:26:00</td>\n",
       "      <td>3.39</td>\n",
       "      <td>17850.0</td>\n",
       "      <td>United Kingdom</td>\n",
       "    </tr>\n",
       "    <tr>\n",
       "      <th>4</th>\n",
       "      <td>536365</td>\n",
       "      <td>84029E</td>\n",
       "      <td>RED WOOLLY HOTTIE WHITE HEART.</td>\n",
       "      <td>6</td>\n",
       "      <td>2010-12-01 08:26:00</td>\n",
       "      <td>3.39</td>\n",
       "      <td>17850.0</td>\n",
       "      <td>United Kingdom</td>\n",
       "    </tr>\n",
       "  </tbody>\n",
       "</table>\n",
       "</div>"
      ],
      "text/plain": [
       "  InvoiceNo StockCode                          Description  Quantity  \\\n",
       "0    536365    85123A   WHITE HANGING HEART T-LIGHT HOLDER         6   \n",
       "1    536365     71053                  WHITE METAL LANTERN         6   \n",
       "2    536365    84406B       CREAM CUPID HEARTS COAT HANGER         8   \n",
       "3    536365    84029G  KNITTED UNION FLAG HOT WATER BOTTLE         6   \n",
       "4    536365    84029E       RED WOOLLY HOTTIE WHITE HEART.         6   \n",
       "\n",
       "          InvoiceDate  UnitPrice  CustomerID         Country  \n",
       "0 2010-12-01 08:26:00       2.55     17850.0  United Kingdom  \n",
       "1 2010-12-01 08:26:00       3.39     17850.0  United Kingdom  \n",
       "2 2010-12-01 08:26:00       2.75     17850.0  United Kingdom  \n",
       "3 2010-12-01 08:26:00       3.39     17850.0  United Kingdom  \n",
       "4 2010-12-01 08:26:00       3.39     17850.0  United Kingdom  "
      ]
     },
     "metadata": {},
     "output_type": "display_data"
    }
   ],
   "source": [
    "# Getting current path\n",
    "path = os.getcwd()\n",
    "try :\n",
    "    data_raw = pd.read_excel(path + \"/data/Online_Retail.xlsx\")\n",
    "    print(\"Loading dataset\")\n",
    "    display(data_raw.head())\n",
    "except ImportError:\n",
    "    print(\"ERROR : check if the 'Online_Retail.xlsx' file is in the 'data' folder\")"
   ]
  },
  {
   "cell_type": "markdown",
   "metadata": {},
   "source": [
    "# 3) Cleaning"
   ]
  },
  {
   "cell_type": "markdown",
   "metadata": {},
   "source": [
    "# 3.1) Duplicates"
   ]
  },
  {
   "cell_type": "code",
   "execution_count": 4,
   "metadata": {},
   "outputs": [
    {
     "name": "stdout",
     "output_type": "stream",
     "text": [
      "initial shape :  (541909, 8)\n",
      "duplicates found :  5268\n",
      "Shape without duplicates:  (536641, 8)\n"
     ]
    }
   ],
   "source": [
    "# Getting rid of the duplicates\n",
    "print(\"initial shape : \", data_raw.shape)\n",
    "dup = data_raw[data_raw.duplicated()].shape[0]\n",
    "if dup > 0 :\n",
    "    print(\"duplicates found : \", dup)\n",
    "    data_raw = data_raw.drop_duplicates(keep='first')\n",
    "    print(\"Shape without duplicates: \", data_raw.shape)\n",
    "else :\n",
    "    print(\"No duplicate\")"
   ]
  },
  {
   "cell_type": "markdown",
   "metadata": {},
   "source": [
    "# 3.2) Missing values"
   ]
  },
  {
   "cell_type": "code",
   "execution_count": 5,
   "metadata": {},
   "outputs": [
    {
     "data": {
      "text/html": [
       "<div>\n",
       "<style scoped>\n",
       "    .dataframe tbody tr th:only-of-type {\n",
       "        vertical-align: middle;\n",
       "    }\n",
       "\n",
       "    .dataframe tbody tr th {\n",
       "        vertical-align: top;\n",
       "    }\n",
       "\n",
       "    .dataframe thead th {\n",
       "        text-align: right;\n",
       "    }\n",
       "</style>\n",
       "<table border=\"1\" class=\"dataframe\">\n",
       "  <thead>\n",
       "    <tr style=\"text-align: right;\">\n",
       "      <th></th>\n",
       "      <th>feature</th>\n",
       "      <th>missing values</th>\n",
       "      <th>missing values (%)</th>\n",
       "    </tr>\n",
       "  </thead>\n",
       "  <tbody>\n",
       "    <tr>\n",
       "      <th>6</th>\n",
       "      <td>CustomerID</td>\n",
       "      <td>135037</td>\n",
       "      <td>25.163377</td>\n",
       "    </tr>\n",
       "    <tr>\n",
       "      <th>2</th>\n",
       "      <td>Description</td>\n",
       "      <td>1454</td>\n",
       "      <td>0.270945</td>\n",
       "    </tr>\n",
       "    <tr>\n",
       "      <th>0</th>\n",
       "      <td>InvoiceNo</td>\n",
       "      <td>0</td>\n",
       "      <td>0.000000</td>\n",
       "    </tr>\n",
       "    <tr>\n",
       "      <th>1</th>\n",
       "      <td>StockCode</td>\n",
       "      <td>0</td>\n",
       "      <td>0.000000</td>\n",
       "    </tr>\n",
       "    <tr>\n",
       "      <th>3</th>\n",
       "      <td>Quantity</td>\n",
       "      <td>0</td>\n",
       "      <td>0.000000</td>\n",
       "    </tr>\n",
       "    <tr>\n",
       "      <th>4</th>\n",
       "      <td>InvoiceDate</td>\n",
       "      <td>0</td>\n",
       "      <td>0.000000</td>\n",
       "    </tr>\n",
       "    <tr>\n",
       "      <th>5</th>\n",
       "      <td>UnitPrice</td>\n",
       "      <td>0</td>\n",
       "      <td>0.000000</td>\n",
       "    </tr>\n",
       "    <tr>\n",
       "      <th>7</th>\n",
       "      <td>Country</td>\n",
       "      <td>0</td>\n",
       "      <td>0.000000</td>\n",
       "    </tr>\n",
       "  </tbody>\n",
       "</table>\n",
       "</div>"
      ],
      "text/plain": [
       "       feature  missing values  missing values (%)\n",
       "6   CustomerID          135037           25.163377\n",
       "2  Description            1454            0.270945\n",
       "0    InvoiceNo               0            0.000000\n",
       "1    StockCode               0            0.000000\n",
       "3     Quantity               0            0.000000\n",
       "4  InvoiceDate               0            0.000000\n",
       "5    UnitPrice               0            0.000000\n",
       "7      Country               0            0.000000"
      ]
     },
     "execution_count": 5,
     "metadata": {},
     "output_type": "execute_result"
    }
   ],
   "source": [
    "# Looking for missing values\n",
    "missing_val_df = data_raw.isnull().sum(axis=0).reset_index()\n",
    "missing_val_df.columns = ['feature', 'missing values']\n",
    "missing_val_df['missing values (%)']=100 - ((data_raw.shape[0]-missing_val_df['missing values'])/data_raw.shape[0]*100)\n",
    "missing_val_df = missing_val_df.sort_values('missing values (%)', ascending=False)\n",
    "missing_val_df"
   ]
  },
  {
   "cell_type": "markdown",
   "metadata": {},
   "source": [
    "As *'CustomerID'* will be our main concern to build customers behaviours, we delete those missing customerID values"
   ]
  },
  {
   "cell_type": "code",
   "execution_count": 6,
   "metadata": {},
   "outputs": [
    {
     "name": "stdout",
     "output_type": "stream",
     "text": [
      "New shape :  (401604, 8)\n"
     ]
    },
    {
     "data": {
      "text/plain": [
       "InvoiceNo      0\n",
       "StockCode      0\n",
       "Description    0\n",
       "Quantity       0\n",
       "InvoiceDate    0\n",
       "UnitPrice      0\n",
       "CustomerID     0\n",
       "Country        0\n",
       "dtype: int64"
      ]
     },
     "execution_count": 6,
     "metadata": {},
     "output_type": "execute_result"
    }
   ],
   "source": [
    "data_raw = data_raw.dropna()\n",
    "print(\"New shape : \", data_raw.shape)\n",
    "data_raw.isnull().sum()"
   ]
  },
  {
   "cell_type": "markdown",
   "metadata": {},
   "source": [
    "# 3.3) Looking for errors in the dataset"
   ]
  },
  {
   "cell_type": "code",
   "execution_count": 7,
   "metadata": {},
   "outputs": [
    {
     "name": "stdout",
     "output_type": "stream",
     "text": [
      "<class 'pandas.core.frame.DataFrame'>\n",
      "Int64Index: 401604 entries, 0 to 541908\n",
      "Data columns (total 8 columns):\n",
      "InvoiceNo      401604 non-null object\n",
      "StockCode      401604 non-null object\n",
      "Description    401604 non-null object\n",
      "Quantity       401604 non-null int64\n",
      "InvoiceDate    401604 non-null datetime64[ns]\n",
      "UnitPrice      401604 non-null float64\n",
      "CustomerID     401604 non-null float64\n",
      "Country        401604 non-null object\n",
      "dtypes: datetime64[ns](1), float64(2), int64(1), object(4)\n",
      "memory usage: 27.6+ MB\n"
     ]
    }
   ],
   "source": [
    "data_raw.info()"
   ]
  },
  {
   "cell_type": "markdown",
   "metadata": {},
   "source": [
    "'InvoiceNo' is object type because some have been canceled and are therefore preceded by a 'C'"
   ]
  },
  {
   "cell_type": "markdown",
   "metadata": {},
   "source": [
    "# 4) Exploration"
   ]
  },
  {
   "cell_type": "code",
   "execution_count": 8,
   "metadata": {},
   "outputs": [],
   "source": [
    "data_raw_explo = data_raw.copy()"
   ]
  },
  {
   "cell_type": "markdown",
   "metadata": {},
   "source": [
    "Number and origin of unique customers"
   ]
  },
  {
   "cell_type": "code",
   "execution_count": 9,
   "metadata": {},
   "outputs": [
    {
     "name": "stdout",
     "output_type": "stream",
     "text": [
      "We count 4372 unique customers coming from 37 countries\n"
     ]
    }
   ],
   "source": [
    "customers_counts = data_raw_explo.loc[:, 'CustomerID'].value_counts()\n",
    "countries_counts = pd.DataFrame(data_raw_explo.loc[:, 'Country'].value_counts(), columns=['Country'])\n",
    "print(\"We count %i unique customers coming from %i countries\" % (customers_counts.shape[0], countries_counts.shape[0]))"
   ]
  },
  {
   "cell_type": "markdown",
   "metadata": {},
   "source": [
    "Group countries that account for less than 0.5% of orders in \"other\" category"
   ]
  },
  {
   "cell_type": "code",
   "execution_count": 10,
   "metadata": {},
   "outputs": [],
   "source": [
    "# Getting percentage of country representation over customers\n",
    "countries_counts.loc[:, 'perc'] = countries_counts.loc[:, 'Country'].apply(lambda x : x * 100 / countries_counts.loc[:, 'Country'].sum())\n",
    "# Attributing 'Other' origin for small amount of orders\n",
    "countries_counts.loc[:, 'Origin'] = countries_counts.apply(lambda x : x.name if x['perc'] >= 0.5 else 'Other', axis=1)\n",
    "# Aggregating by Origin\n",
    "grouped = countries_counts.groupby('Origin')\n",
    "countries_counts_other = grouped.agg(np.sum)"
   ]
  },
  {
   "cell_type": "code",
   "execution_count": 11,
   "metadata": {},
   "outputs": [
    {
     "data": {
      "image/png": "[encoded data removed]",
      "text/plain": [
       "<Figure size 1080x360 with 1 Axes>"
      ]
     },
     "metadata": {},
     "output_type": "display_data"
    }
   ],
   "source": [
    "# Pie chart\n",
    "fig, ax = plt.subplots(figsize=(15,5))\n",
    "# Explode for small accounts\n",
    "explode = [0.5 if countries_counts_other['perc'][i] <= 4 else 0.0 for i in range(len(countries_counts_other.values))]\n",
    "ax.pie(countries_counts_other['Country'].values, labels=countries_counts_other.index.values, autopct='%.1f%%',\n",
    "       explode=explode, textprops={'fontsize': 13}, startangle=340, colors=sns.color_palette(\"PuOr\", 12))\n",
    "ax.axis('equal');  # Equal aspect ratio ensures that pie is drawn as a circle.\n",
    "ax.set_title('Sells repartition by country of customer', fontsize=15);"
   ]
  },
  {
   "cell_type": "markdown",
   "metadata": {},
   "source": [
    "As most of customers comes from UK, and that customers behaviours most likely differ from one country to another, we will limit the analysis to UK customers."
   ]
  },
  {
   "cell_type": "code",
   "execution_count": 12,
   "metadata": {},
   "outputs": [
    {
     "name": "stdout",
     "output_type": "stream",
     "text": [
      "New shape :  (356728, 8)\n"
     ]
    }
   ],
   "source": [
    "data_raw_explo = data_raw_explo[data_raw_explo.Country == 'United Kingdom']\n",
    "print(\"New shape : \", data_raw_explo.shape)"
   ]
  },
  {
   "cell_type": "markdown",
   "metadata": {},
   "source": [
    "Label encoding with Customers ID"
   ]
  },
  {
   "cell_type": "code",
   "execution_count": 13,
   "metadata": {},
   "outputs": [],
   "source": [
    "# Get Customers ID\n",
    "le_id = preprocessing.LabelEncoder()\n",
    "le_id = le_id.fit(data_raw_explo.loc[:, 'CustomerID'].dropna().values)\n",
    "data_raw_explo.loc[:, 'CustomerID_enc'] = data_raw_explo.loc[:, 'CustomerID'].apply(lambda x : int(le_id.transform([x])) if not bool(np.isnan(x)) else x)"
   ]
  },
  {
   "cell_type": "markdown",
   "metadata": {},
   "source": [
    "New customers count"
   ]
  },
  {
   "cell_type": "code",
   "execution_count": 14,
   "metadata": {},
   "outputs": [],
   "source": [
    "customers_counts = data_raw_explo.loc[:, 'CustomerID_enc'].value_counts()"
   ]
  },
  {
   "cell_type": "code",
   "execution_count": 96,
   "metadata": {},
   "outputs": [
    {
     "name": "stderr",
     "output_type": "stream",
     "text": [
      "C:\\Users\\simon\\Anaconda3\\lib\\site-packages\\matplotlib\\axes\\_axes.py:6462: UserWarning: The 'normed' kwarg is deprecated, and has been replaced by the 'density' kwarg.\n",
      "  warnings.warn(\"The 'normed' kwarg is deprecated, and has been \"\n"
     ]
    },
    {
     "data": {
      "image/png": "[encoded data removed]",
      "text/plain": [
       "<Figure size 864x360 with 1 Axes>"
      ]
     },
     "metadata": {},
     "output_type": "display_data"
    }
   ],
   "source": [
    "fig, ax = plt.subplots(figsize=(12,5))\n",
    "ax = sns.distplot(data_raw_explo.loc[:, 'CustomerID'], kde=False, bins=1100)\n",
    "# Add axes labels\n",
    "ax.set_xlabel('CustomerID', fontsize=15)\n",
    "ax.set_ylabel('Number of orders', fontsize=15);"
   ]
  },
  {
   "cell_type": "markdown",
   "metadata": {},
   "source": [
    "We can observe a few big customers but most of customers placed an amount of orders bellow 500"
   ]
  },
  {
   "cell_type": "code",
   "execution_count": 97,
   "metadata": {},
   "outputs": [
    {
     "data": {
      "text/plain": [
       "count    3950.000000\n",
       "mean       90.310886\n",
       "std       216.804909\n",
       "min         1.000000\n",
       "25%        17.000000\n",
       "50%        41.000000\n",
       "75%        99.000000\n",
       "95%       314.000000\n",
       "99%       659.590000\n",
       "max      7812.000000\n",
       "Name: CustomerID_enc, dtype: float64"
      ]
     },
     "execution_count": 97,
     "metadata": {},
     "output_type": "execute_result"
    }
   ],
   "source": [
    "customers_counts_df = pd.DataFrame(customers_counts.values, columns=['counts'])\n",
    "customers_counts_df['cust_enc_id'] = customers_counts.index.values\n",
    "customers_counts.describe(percentiles=[0.25,0.5,0.75,0.95,0.99])"
   ]
  },
  {
   "cell_type": "markdown",
   "metadata": {},
   "source": [
    "In numbers 95% of the customers placed 314 orders or less"
   ]
  },
  {
   "cell_type": "markdown",
   "metadata": {},
   "source": [
    "In order to capitalise on the customers buying activity to infer a behaviour, we can't use the cancellations invoices neither can we use other kind of invoices (merchandise thrown away, damaged etc).\n",
    "\n",
    "Let's get rid of this cancellations. Notice that those may be interesting to study in order to look into the reasons of those cancellations. But this is not our purpose here."
   ]
  },
  {
   "cell_type": "code",
   "execution_count": 17,
   "metadata": {},
   "outputs": [
    {
     "name": "stdout",
     "output_type": "stream",
     "text": [
      "Shape before removing cancellations :  (356728, 9)\n",
      "Shape after removing cancellations :  (349227, 9)\n"
     ]
    }
   ],
   "source": [
    "print(\"Shape before removing cancellations : \", data_raw_explo.shape)\n",
    "data_raw_explo = data_raw_explo[data_raw_explo.Quantity > 0]\n",
    "print(\"Shape after removing cancellations : \", data_raw_explo.shape)"
   ]
  },
  {
   "cell_type": "markdown",
   "metadata": {},
   "source": [
    "Does the unit price evolves over time ? YES but no pattern"
   ]
  },
  {
   "cell_type": "code",
   "execution_count": 18,
   "metadata": {},
   "outputs": [
    {
     "name": "stdout",
     "output_type": "stream",
     "text": [
      "StockCode sample : 82582\n"
     ]
    },
    {
     "data": {
      "text/plain": [
       "2.10    336\n",
       "1.85     22\n",
       "4.13      5\n",
       "1.69      3\n",
       "Name: UnitPrice, dtype: int64"
      ]
     },
     "execution_count": 18,
     "metadata": {},
     "output_type": "execute_result"
    },
    {
     "data": {
      "image/png": "[encoded data removed]",
      "text/plain": [
       "<Figure size 432x288 with 1 Axes>"
      ]
     },
     "metadata": {},
     "output_type": "display_data"
    }
   ],
   "source": [
    "stockcode_samp = data_raw_explo.StockCode.sample().values\n",
    "print(\"StockCode sample : %s\" % stockcode_samp[0])\n",
    "data_stockcode_samp = data_raw_explo.loc[:, ['InvoiceDate', 'Quantity', 'UnitPrice']][data_raw_explo.StockCode == stockcode_samp[0]]\n",
    "plt.scatter(data_stockcode_samp.InvoiceDate.values, data_stockcode_samp.UnitPrice.values)\n",
    "data_stockcode_samp.UnitPrice.value_counts()"
   ]
  },
  {
   "cell_type": "markdown",
   "metadata": {},
   "source": [
    "Frequency of orders over time"
   ]
  },
  {
   "cell_type": "code",
   "execution_count": 19,
   "metadata": {},
   "outputs": [
    {
     "data": {
      "image/png": "[encoded data removed]",
      "text/plain": [
       "<Figure size 1080x360 with 1 Axes>"
      ]
     },
     "metadata": {},
     "output_type": "display_data"
    }
   ],
   "source": [
    "fig, ax = plt.subplots(figsize=(15,5))\n",
    "counts, bins, bars = plt.hist(data_raw_explo.InvoiceDate.values, bins=1000);"
   ]
  },
  {
   "cell_type": "markdown",
   "metadata": {},
   "source": [
    "We can observe a rise in the orders close to the end of the year, which is consistent with the holidays period. Moreover the website seem closed from december the 24th to january the 4th."
   ]
  },
  {
   "cell_type": "markdown",
   "metadata": {},
   "source": [
    "Creating an amount feature (quantity * unitprice)"
   ]
  },
  {
   "cell_type": "code",
   "execution_count": 20,
   "metadata": {},
   "outputs": [],
   "source": [
    "data_raw_explo['Amount'] = data_raw_explo['Quantity'] * data_raw_explo['UnitPrice']"
   ]
  },
  {
   "cell_type": "markdown",
   "metadata": {},
   "source": [
    "Looking for zeros in amounts : free order that might be gifts"
   ]
  },
  {
   "cell_type": "code",
   "execution_count": 21,
   "metadata": {},
   "outputs": [
    {
     "data": {
      "text/plain": [
       "Index(['UnitPrice', 'CustomerID_enc', 'Amount'], dtype='object')"
      ]
     },
     "metadata": {},
     "output_type": "display_data"
    }
   ],
   "source": [
    "# Columns with zeros\n",
    "col_zeros = data_raw_explo.columns[(data_raw_explo == 0).any()]\n",
    "display(col_zeros)"
   ]
  },
  {
   "cell_type": "markdown",
   "metadata": {},
   "source": [
    "CustomerID_enc has a zero, no chocking"
   ]
  },
  {
   "cell_type": "code",
   "execution_count": 22,
   "metadata": {},
   "outputs": [
    {
     "data": {
      "text/html": [
       "<div>\n",
       "<style scoped>\n",
       "    .dataframe tbody tr th:only-of-type {\n",
       "        vertical-align: middle;\n",
       "    }\n",
       "\n",
       "    .dataframe tbody tr th {\n",
       "        vertical-align: top;\n",
       "    }\n",
       "\n",
       "    .dataframe thead th {\n",
       "        text-align: right;\n",
       "    }\n",
       "</style>\n",
       "<table border=\"1\" class=\"dataframe\">\n",
       "  <thead>\n",
       "    <tr style=\"text-align: right;\">\n",
       "      <th></th>\n",
       "      <th>UnitPrice</th>\n",
       "      <th>CustomerID_enc</th>\n",
       "      <th>Amount</th>\n",
       "    </tr>\n",
       "  </thead>\n",
       "  <tbody>\n",
       "    <tr>\n",
       "      <th>454463</th>\n",
       "      <td>0.0</td>\n",
       "      <td>189</td>\n",
       "      <td>0.0</td>\n",
       "    </tr>\n",
       "    <tr>\n",
       "      <th>436597</th>\n",
       "      <td>0.0</td>\n",
       "      <td>920</td>\n",
       "      <td>0.0</td>\n",
       "    </tr>\n",
       "    <tr>\n",
       "      <th>47068</th>\n",
       "      <td>0.0</td>\n",
       "      <td>189</td>\n",
       "      <td>0.0</td>\n",
       "    </tr>\n",
       "    <tr>\n",
       "      <th>47070</th>\n",
       "      <td>0.0</td>\n",
       "      <td>189</td>\n",
       "      <td>0.0</td>\n",
       "    </tr>\n",
       "    <tr>\n",
       "      <th>446794</th>\n",
       "      <td>0.0</td>\n",
       "      <td>829</td>\n",
       "      <td>0.0</td>\n",
       "    </tr>\n",
       "  </tbody>\n",
       "</table>\n",
       "</div>"
      ],
      "text/plain": [
       "        UnitPrice  CustomerID_enc  Amount\n",
       "454463        0.0             189     0.0\n",
       "436597        0.0             920     0.0\n",
       "47068         0.0             189     0.0\n",
       "47070         0.0             189     0.0\n",
       "446794        0.0             829     0.0"
      ]
     },
     "execution_count": 22,
     "metadata": {},
     "output_type": "execute_result"
    }
   ],
   "source": [
    "data_raw_explo.loc[:, col_zeros].sort_values(by=['Amount']).head()"
   ]
  },
  {
   "cell_type": "code",
   "execution_count": 103,
   "metadata": {},
   "outputs": [
    {
     "data": {
      "text/html": [
       "<div>\n",
       "<style scoped>\n",
       "    .dataframe tbody tr th:only-of-type {\n",
       "        vertical-align: middle;\n",
       "    }\n",
       "\n",
       "    .dataframe tbody tr th {\n",
       "        vertical-align: top;\n",
       "    }\n",
       "\n",
       "    .dataframe thead th {\n",
       "        text-align: right;\n",
       "    }\n",
       "</style>\n",
       "<table border=\"1\" class=\"dataframe\">\n",
       "  <thead>\n",
       "    <tr style=\"text-align: right;\">\n",
       "      <th></th>\n",
       "      <th>InvoiceNo</th>\n",
       "      <th>StockCode</th>\n",
       "      <th>Description</th>\n",
       "      <th>Quantity</th>\n",
       "      <th>InvoiceDate</th>\n",
       "      <th>UnitPrice</th>\n",
       "      <th>CustomerID</th>\n",
       "      <th>Country</th>\n",
       "      <th>Amount</th>\n",
       "    </tr>\n",
       "  </thead>\n",
       "  <tbody>\n",
       "    <tr>\n",
       "      <th>9302</th>\n",
       "      <td>537197</td>\n",
       "      <td>22841</td>\n",
       "      <td>ROUND CAKE TIN VINTAGE GREEN</td>\n",
       "      <td>1</td>\n",
       "      <td>2010-12-05 14:02:00</td>\n",
       "      <td>0.0</td>\n",
       "      <td>12647.0</td>\n",
       "      <td>Germany</td>\n",
       "      <td>0.0</td>\n",
       "    </tr>\n",
       "    <tr>\n",
       "      <th>33576</th>\n",
       "      <td>539263</td>\n",
       "      <td>22580</td>\n",
       "      <td>ADVENT CALENDAR GINGHAM SACK</td>\n",
       "      <td>4</td>\n",
       "      <td>2010-12-16 14:36:00</td>\n",
       "      <td>0.0</td>\n",
       "      <td>16560.0</td>\n",
       "      <td>United Kingdom</td>\n",
       "      <td>0.0</td>\n",
       "    </tr>\n",
       "    <tr>\n",
       "      <th>40089</th>\n",
       "      <td>539722</td>\n",
       "      <td>22423</td>\n",
       "      <td>REGENCY CAKESTAND 3 TIER</td>\n",
       "      <td>10</td>\n",
       "      <td>2010-12-21 13:45:00</td>\n",
       "      <td>0.0</td>\n",
       "      <td>14911.0</td>\n",
       "      <td>EIRE</td>\n",
       "      <td>0.0</td>\n",
       "    </tr>\n",
       "    <tr>\n",
       "      <th>47068</th>\n",
       "      <td>540372</td>\n",
       "      <td>22090</td>\n",
       "      <td>PAPER BUNTING RETROSPOT</td>\n",
       "      <td>24</td>\n",
       "      <td>2011-01-06 16:41:00</td>\n",
       "      <td>0.0</td>\n",
       "      <td>13081.0</td>\n",
       "      <td>United Kingdom</td>\n",
       "      <td>0.0</td>\n",
       "    </tr>\n",
       "    <tr>\n",
       "      <th>47070</th>\n",
       "      <td>540372</td>\n",
       "      <td>22553</td>\n",
       "      <td>PLASTERS IN TIN SKULLS</td>\n",
       "      <td>24</td>\n",
       "      <td>2011-01-06 16:41:00</td>\n",
       "      <td>0.0</td>\n",
       "      <td>13081.0</td>\n",
       "      <td>United Kingdom</td>\n",
       "      <td>0.0</td>\n",
       "    </tr>\n",
       "  </tbody>\n",
       "</table>\n",
       "</div>"
      ],
      "text/plain": [
       "      InvoiceNo StockCode                   Description  Quantity  \\\n",
       "9302     537197     22841  ROUND CAKE TIN VINTAGE GREEN         1   \n",
       "33576    539263     22580  ADVENT CALENDAR GINGHAM SACK         4   \n",
       "40089    539722     22423      REGENCY CAKESTAND 3 TIER        10   \n",
       "47068    540372     22090       PAPER BUNTING RETROSPOT        24   \n",
       "47070    540372     22553        PLASTERS IN TIN SKULLS        24   \n",
       "\n",
       "              InvoiceDate  UnitPrice  CustomerID         Country  Amount  \n",
       "9302  2010-12-05 14:02:00        0.0     12647.0         Germany     0.0  \n",
       "33576 2010-12-16 14:36:00        0.0     16560.0  United Kingdom     0.0  \n",
       "40089 2010-12-21 13:45:00        0.0     14911.0            EIRE     0.0  \n",
       "47068 2011-01-06 16:41:00        0.0     13081.0  United Kingdom     0.0  \n",
       "47070 2011-01-06 16:41:00        0.0     13081.0  United Kingdom     0.0  "
      ]
     },
     "execution_count": 103,
     "metadata": {},
     "output_type": "execute_result"
    }
   ],
   "source": [
    "data_test = data_raw.copy()\n",
    "data_test['Amount'] = data_test['Quantity'] * data_test['UnitPrice']\n",
    "data_test[data_test.Amount == 0].head()"
   ]
  },
  {
   "cell_type": "code",
   "execution_count": 121,
   "metadata": {},
   "outputs": [
    {
     "data": {
      "text/plain": [
       "datetime.datetime(2010, 12, 1, 20, 0)"
      ]
     },
     "execution_count": 121,
     "metadata": {},
     "output_type": "execute_result"
    }
   ],
   "source": [
    "datetime.datetime(2010,12,1,20,0,0)"
   ]
  },
  {
   "cell_type": "code",
   "execution_count": 145,
   "metadata": {},
   "outputs": [
    {
     "data": {
      "text/html": [
       "<div>\n",
       "<style scoped>\n",
       "    .dataframe tbody tr th:only-of-type {\n",
       "        vertical-align: middle;\n",
       "    }\n",
       "\n",
       "    .dataframe tbody tr th {\n",
       "        vertical-align: top;\n",
       "    }\n",
       "\n",
       "    .dataframe thead th {\n",
       "        text-align: right;\n",
       "    }\n",
       "</style>\n",
       "<table border=\"1\" class=\"dataframe\">\n",
       "  <thead>\n",
       "    <tr style=\"text-align: right;\">\n",
       "      <th></th>\n",
       "      <th>InvoiceNo</th>\n",
       "      <th>StockCode</th>\n",
       "      <th>Description</th>\n",
       "      <th>Quantity</th>\n",
       "      <th>InvoiceDate</th>\n",
       "      <th>UnitPrice</th>\n",
       "      <th>CustomerID</th>\n",
       "      <th>Country</th>\n",
       "      <th>Amount</th>\n",
       "    </tr>\n",
       "  </thead>\n",
       "  <tbody>\n",
       "    <tr>\n",
       "      <th>42451</th>\n",
       "      <td>539988</td>\n",
       "      <td>22854</td>\n",
       "      <td>CREAM SWEETHEART EGG HOLDER</td>\n",
       "      <td>2</td>\n",
       "      <td>2010-12-23 16:06:00</td>\n",
       "      <td>4.95</td>\n",
       "      <td>18116.0</td>\n",
       "      <td>United Kingdom</td>\n",
       "      <td>9.9</td>\n",
       "    </tr>\n",
       "    <tr>\n",
       "      <th>42452</th>\n",
       "      <td>539988</td>\n",
       "      <td>47559B</td>\n",
       "      <td>TEA TIME OVEN GLOVE</td>\n",
       "      <td>2</td>\n",
       "      <td>2010-12-23 16:06:00</td>\n",
       "      <td>1.25</td>\n",
       "      <td>18116.0</td>\n",
       "      <td>United Kingdom</td>\n",
       "      <td>2.5</td>\n",
       "    </tr>\n",
       "    <tr>\n",
       "      <th>42481</th>\n",
       "      <td>539993</td>\n",
       "      <td>22386</td>\n",
       "      <td>JUMBO BAG PINK POLKADOT</td>\n",
       "      <td>10</td>\n",
       "      <td>2011-01-04 10:00:00</td>\n",
       "      <td>1.95</td>\n",
       "      <td>13313.0</td>\n",
       "      <td>United Kingdom</td>\n",
       "      <td>19.5</td>\n",
       "    </tr>\n",
       "    <tr>\n",
       "      <th>42482</th>\n",
       "      <td>539993</td>\n",
       "      <td>21499</td>\n",
       "      <td>BLUE POLKADOT WRAP</td>\n",
       "      <td>25</td>\n",
       "      <td>2011-01-04 10:00:00</td>\n",
       "      <td>0.42</td>\n",
       "      <td>13313.0</td>\n",
       "      <td>United Kingdom</td>\n",
       "      <td>10.5</td>\n",
       "    </tr>\n",
       "  </tbody>\n",
       "</table>\n",
       "</div>"
      ],
      "text/plain": [
       "      InvoiceNo StockCode                  Description  Quantity  \\\n",
       "42451    539988     22854  CREAM SWEETHEART EGG HOLDER         2   \n",
       "42452    539988    47559B          TEA TIME OVEN GLOVE         2   \n",
       "42481    539993     22386      JUMBO BAG PINK POLKADOT        10   \n",
       "42482    539993     21499           BLUE POLKADOT WRAP        25   \n",
       "\n",
       "              InvoiceDate  UnitPrice  CustomerID         Country  Amount  \n",
       "42451 2010-12-23 16:06:00       4.95     18116.0  United Kingdom     9.9  \n",
       "42452 2010-12-23 16:06:00       1.25     18116.0  United Kingdom     2.5  \n",
       "42481 2011-01-04 10:00:00       1.95     13313.0  United Kingdom    19.5  \n",
       "42482 2011-01-04 10:00:00       0.42     13313.0  United Kingdom    10.5  "
      ]
     },
     "execution_count": 145,
     "metadata": {},
     "output_type": "execute_result"
    }
   ],
   "source": [
    "data_test[(data_test.InvoiceDate >= datetime.datetime(2010,12,23,16,5,0))].iloc[86:90]"
   ]
  },
  {
   "cell_type": "markdown",
   "metadata": {},
   "source": [
    "Some zeros indeed, we won't be interested in those"
   ]
  },
  {
   "cell_type": "code",
   "execution_count": 23,
   "metadata": {},
   "outputs": [
    {
     "name": "stdout",
     "output_type": "stream",
     "text": [
      "Shape before removing free orders :  (349227, 10)\n",
      "Shape after removing free orders :  (349203, 10)\n"
     ]
    }
   ],
   "source": [
    "print(\"Shape before removing free orders : \", data_raw_explo.shape)\n",
    "data_raw_explo = data_raw_explo[data_raw_explo.Amount > 0]\n",
    "print(\"Shape after removing free orders : \", data_raw_explo.shape)"
   ]
  },
  {
   "cell_type": "markdown",
   "metadata": {},
   "source": [
    "## Studying if customers are more likely to be bulk buyers or particular ones\n",
    "\n",
    "**_New feature : Quantity / (UnitPrice + 1) ratio_**, we add 1 to the denominator in order to avoid increasing the ratio by dividing by something smaller than 1."
   ]
  },
  {
   "cell_type": "code",
   "execution_count": 24,
   "metadata": {},
   "outputs": [],
   "source": [
    "data_raw_explo['Bulk'] = data_raw_explo.loc[:, 'Quantity'] / data_raw_explo.loc[:, 'UnitPrice'].apply(lambda x : x + 1)"
   ]
  },
  {
   "cell_type": "code",
   "execution_count": 25,
   "metadata": {
    "scrolled": true
   },
   "outputs": [
    {
     "data": {
      "image/png": "[encoded data removed]",
      "text/plain": [
       "<Figure size 900x360 with 1 Axes>"
      ]
     },
     "metadata": {},
     "output_type": "display_data"
    }
   ],
   "source": [
    "# Set seaborn style\n",
    "sns.set_style(\"white\")\n",
    "# Seaborn scatter plot\n",
    "sns.lmplot('CustomerID_enc', 'Bulk', data=data_raw_explo, fit_reg=False, aspect=2.5)\n",
    "# Add axes labels\n",
    "ax = plt.gca()\n",
    "ax.set_xlabel('CustomerID', fontsize=15)\n",
    "ax.set_ylabel('Tendency to buy in bulk', fontsize=15);"
   ]
  },
  {
   "cell_type": "markdown",
   "metadata": {},
   "source": [
    "We spot 2 outliers, let's verify if it bulk orders as it seems to be"
   ]
  },
  {
   "cell_type": "code",
   "execution_count": 26,
   "metadata": {},
   "outputs": [
    {
     "data": {
      "text/html": [
       "<div>\n",
       "<style scoped>\n",
       "    .dataframe tbody tr th:only-of-type {\n",
       "        vertical-align: middle;\n",
       "    }\n",
       "\n",
       "    .dataframe tbody tr th {\n",
       "        vertical-align: top;\n",
       "    }\n",
       "\n",
       "    .dataframe thead th {\n",
       "        text-align: right;\n",
       "    }\n",
       "</style>\n",
       "<table border=\"1\" class=\"dataframe\">\n",
       "  <thead>\n",
       "    <tr style=\"text-align: right;\">\n",
       "      <th></th>\n",
       "      <th>InvoiceNo</th>\n",
       "      <th>StockCode</th>\n",
       "      <th>Description</th>\n",
       "      <th>Quantity</th>\n",
       "      <th>InvoiceDate</th>\n",
       "      <th>UnitPrice</th>\n",
       "      <th>CustomerID</th>\n",
       "      <th>Country</th>\n",
       "      <th>CustomerID_enc</th>\n",
       "      <th>Amount</th>\n",
       "      <th>Bulk</th>\n",
       "    </tr>\n",
       "  </thead>\n",
       "  <tbody>\n",
       "    <tr>\n",
       "      <th>61619</th>\n",
       "      <td>541431</td>\n",
       "      <td>23166</td>\n",
       "      <td>MEDIUM CERAMIC TOP STORAGE JAR</td>\n",
       "      <td>74215</td>\n",
       "      <td>2011-01-18 10:01:00</td>\n",
       "      <td>1.04</td>\n",
       "      <td>12346.0</td>\n",
       "      <td>United Kingdom</td>\n",
       "      <td>0</td>\n",
       "      <td>77183.6</td>\n",
       "      <td>36379.901961</td>\n",
       "    </tr>\n",
       "    <tr>\n",
       "      <th>540421</th>\n",
       "      <td>581483</td>\n",
       "      <td>23843</td>\n",
       "      <td>PAPER CRAFT , LITTLE BIRDIE</td>\n",
       "      <td>80995</td>\n",
       "      <td>2011-12-09 09:15:00</td>\n",
       "      <td>2.08</td>\n",
       "      <td>16446.0</td>\n",
       "      <td>United Kingdom</td>\n",
       "      <td>2619</td>\n",
       "      <td>168469.6</td>\n",
       "      <td>26297.077922</td>\n",
       "    </tr>\n",
       "  </tbody>\n",
       "</table>\n",
       "</div>"
      ],
      "text/plain": [
       "       InvoiceNo StockCode                     Description  Quantity  \\\n",
       "61619     541431     23166  MEDIUM CERAMIC TOP STORAGE JAR     74215   \n",
       "540421    581483     23843     PAPER CRAFT , LITTLE BIRDIE     80995   \n",
       "\n",
       "               InvoiceDate  UnitPrice  CustomerID         Country  \\\n",
       "61619  2011-01-18 10:01:00       1.04     12346.0  United Kingdom   \n",
       "540421 2011-12-09 09:15:00       2.08     16446.0  United Kingdom   \n",
       "\n",
       "        CustomerID_enc    Amount          Bulk  \n",
       "61619                0   77183.6  36379.901961  \n",
       "540421            2619  168469.6  26297.077922  "
      ]
     },
     "execution_count": 26,
     "metadata": {},
     "output_type": "execute_result"
    }
   ],
   "source": [
    "data_raw_explo.sort_values(by='Bulk', ascending=False).head(2)"
   ]
  },
  {
   "cell_type": "markdown",
   "metadata": {},
   "source": [
    "Well it is very true for those two fellows, what about the smaller ones ?"
   ]
  },
  {
   "cell_type": "code",
   "execution_count": 27,
   "metadata": {
    "scrolled": true
   },
   "outputs": [
    {
     "data": {
      "text/html": [
       "<div>\n",
       "<style scoped>\n",
       "    .dataframe tbody tr th:only-of-type {\n",
       "        vertical-align: middle;\n",
       "    }\n",
       "\n",
       "    .dataframe tbody tr th {\n",
       "        vertical-align: top;\n",
       "    }\n",
       "\n",
       "    .dataframe thead th {\n",
       "        text-align: right;\n",
       "    }\n",
       "</style>\n",
       "<table border=\"1\" class=\"dataframe\">\n",
       "  <thead>\n",
       "    <tr style=\"text-align: right;\">\n",
       "      <th></th>\n",
       "      <th>InvoiceNo</th>\n",
       "      <th>StockCode</th>\n",
       "      <th>Description</th>\n",
       "      <th>Quantity</th>\n",
       "      <th>InvoiceDate</th>\n",
       "      <th>UnitPrice</th>\n",
       "      <th>CustomerID</th>\n",
       "      <th>Country</th>\n",
       "      <th>CustomerID_enc</th>\n",
       "      <th>Amount</th>\n",
       "      <th>Bulk</th>\n",
       "    </tr>\n",
       "  </thead>\n",
       "  <tbody>\n",
       "    <tr>\n",
       "      <th>61619</th>\n",
       "      <td>541431</td>\n",
       "      <td>23166</td>\n",
       "      <td>MEDIUM CERAMIC TOP STORAGE JAR</td>\n",
       "      <td>74215</td>\n",
       "      <td>2011-01-18 10:01:00</td>\n",
       "      <td>1.04</td>\n",
       "      <td>12346.0</td>\n",
       "      <td>United Kingdom</td>\n",
       "      <td>0</td>\n",
       "      <td>77183.60</td>\n",
       "      <td>36379.901961</td>\n",
       "    </tr>\n",
       "    <tr>\n",
       "      <th>540421</th>\n",
       "      <td>581483</td>\n",
       "      <td>23843</td>\n",
       "      <td>PAPER CRAFT , LITTLE BIRDIE</td>\n",
       "      <td>80995</td>\n",
       "      <td>2011-12-09 09:15:00</td>\n",
       "      <td>2.08</td>\n",
       "      <td>16446.0</td>\n",
       "      <td>United Kingdom</td>\n",
       "      <td>2619</td>\n",
       "      <td>168469.60</td>\n",
       "      <td>26297.077922</td>\n",
       "    </tr>\n",
       "    <tr>\n",
       "      <th>421632</th>\n",
       "      <td>573008</td>\n",
       "      <td>84077</td>\n",
       "      <td>WORLD WAR 2 GLIDERS ASSTD DESIGNS</td>\n",
       "      <td>4800</td>\n",
       "      <td>2011-10-27 12:26:00</td>\n",
       "      <td>0.21</td>\n",
       "      <td>12901.0</td>\n",
       "      <td>United Kingdom</td>\n",
       "      <td>61</td>\n",
       "      <td>1008.00</td>\n",
       "      <td>3966.942149</td>\n",
       "    </tr>\n",
       "    <tr>\n",
       "      <th>270885</th>\n",
       "      <td>560599</td>\n",
       "      <td>18007</td>\n",
       "      <td>ESSENTIAL BALM 3.5g TIN IN ENVELOPE</td>\n",
       "      <td>3186</td>\n",
       "      <td>2011-07-19 17:04:00</td>\n",
       "      <td>0.06</td>\n",
       "      <td>14609.0</td>\n",
       "      <td>United Kingdom</td>\n",
       "      <td>1279</td>\n",
       "      <td>191.16</td>\n",
       "      <td>3005.660377</td>\n",
       "    </tr>\n",
       "    <tr>\n",
       "      <th>206121</th>\n",
       "      <td>554868</td>\n",
       "      <td>22197</td>\n",
       "      <td>SMALL POPCORN HOLDER</td>\n",
       "      <td>4300</td>\n",
       "      <td>2011-05-27 10:52:00</td>\n",
       "      <td>0.72</td>\n",
       "      <td>13135.0</td>\n",
       "      <td>United Kingdom</td>\n",
       "      <td>228</td>\n",
       "      <td>3096.00</td>\n",
       "      <td>2500.000000</td>\n",
       "    </tr>\n",
       "    <tr>\n",
       "      <th>4945</th>\n",
       "      <td>536830</td>\n",
       "      <td>84077</td>\n",
       "      <td>WORLD WAR 2 GLIDERS ASSTD DESIGNS</td>\n",
       "      <td>2880</td>\n",
       "      <td>2010-12-02 17:38:00</td>\n",
       "      <td>0.18</td>\n",
       "      <td>16754.0</td>\n",
       "      <td>United Kingdom</td>\n",
       "      <td>2842</td>\n",
       "      <td>518.40</td>\n",
       "      <td>2440.677966</td>\n",
       "    </tr>\n",
       "    <tr>\n",
       "      <th>433788</th>\n",
       "      <td>573995</td>\n",
       "      <td>16014</td>\n",
       "      <td>SMALL CHINESE STYLE SCISSOR</td>\n",
       "      <td>3000</td>\n",
       "      <td>2011-11-02 11:24:00</td>\n",
       "      <td>0.32</td>\n",
       "      <td>16308.0</td>\n",
       "      <td>United Kingdom</td>\n",
       "      <td>2514</td>\n",
       "      <td>960.00</td>\n",
       "      <td>2272.727273</td>\n",
       "    </tr>\n",
       "    <tr>\n",
       "      <th>91772</th>\n",
       "      <td>544152</td>\n",
       "      <td>18007</td>\n",
       "      <td>ESSENTIAL BALM 3.5g TIN IN ENVELOPE</td>\n",
       "      <td>2400</td>\n",
       "      <td>2011-02-16 12:10:00</td>\n",
       "      <td>0.06</td>\n",
       "      <td>14609.0</td>\n",
       "      <td>United Kingdom</td>\n",
       "      <td>1279</td>\n",
       "      <td>144.00</td>\n",
       "      <td>2264.150943</td>\n",
       "    </tr>\n",
       "    <tr>\n",
       "      <th>97432</th>\n",
       "      <td>544612</td>\n",
       "      <td>22053</td>\n",
       "      <td>EMPIRE DESIGN ROSETTE</td>\n",
       "      <td>3906</td>\n",
       "      <td>2011-02-22 10:43:00</td>\n",
       "      <td>0.82</td>\n",
       "      <td>18087.0</td>\n",
       "      <td>United Kingdom</td>\n",
       "      <td>3801</td>\n",
       "      <td>3202.92</td>\n",
       "      <td>2146.153846</td>\n",
       "    </tr>\n",
       "    <tr>\n",
       "      <th>80742</th>\n",
       "      <td>543057</td>\n",
       "      <td>84077</td>\n",
       "      <td>WORLD WAR 2 GLIDERS ASSTD DESIGNS</td>\n",
       "      <td>2592</td>\n",
       "      <td>2011-02-03 10:50:00</td>\n",
       "      <td>0.21</td>\n",
       "      <td>16333.0</td>\n",
       "      <td>United Kingdom</td>\n",
       "      <td>2531</td>\n",
       "      <td>544.32</td>\n",
       "      <td>2142.148760</td>\n",
       "    </tr>\n",
       "  </tbody>\n",
       "</table>\n",
       "</div>"
      ],
      "text/plain": [
       "       InvoiceNo StockCode                          Description  Quantity  \\\n",
       "61619     541431     23166       MEDIUM CERAMIC TOP STORAGE JAR     74215   \n",
       "540421    581483     23843          PAPER CRAFT , LITTLE BIRDIE     80995   \n",
       "421632    573008     84077    WORLD WAR 2 GLIDERS ASSTD DESIGNS      4800   \n",
       "270885    560599     18007  ESSENTIAL BALM 3.5g TIN IN ENVELOPE      3186   \n",
       "206121    554868     22197                 SMALL POPCORN HOLDER      4300   \n",
       "4945      536830     84077    WORLD WAR 2 GLIDERS ASSTD DESIGNS      2880   \n",
       "433788    573995     16014          SMALL CHINESE STYLE SCISSOR      3000   \n",
       "91772     544152     18007  ESSENTIAL BALM 3.5g TIN IN ENVELOPE      2400   \n",
       "97432     544612     22053                EMPIRE DESIGN ROSETTE      3906   \n",
       "80742     543057     84077    WORLD WAR 2 GLIDERS ASSTD DESIGNS      2592   \n",
       "\n",
       "               InvoiceDate  UnitPrice  CustomerID         Country  \\\n",
       "61619  2011-01-18 10:01:00       1.04     12346.0  United Kingdom   \n",
       "540421 2011-12-09 09:15:00       2.08     16446.0  United Kingdom   \n",
       "421632 2011-10-27 12:26:00       0.21     12901.0  United Kingdom   \n",
       "270885 2011-07-19 17:04:00       0.06     14609.0  United Kingdom   \n",
       "206121 2011-05-27 10:52:00       0.72     13135.0  United Kingdom   \n",
       "4945   2010-12-02 17:38:00       0.18     16754.0  United Kingdom   \n",
       "433788 2011-11-02 11:24:00       0.32     16308.0  United Kingdom   \n",
       "91772  2011-02-16 12:10:00       0.06     14609.0  United Kingdom   \n",
       "97432  2011-02-22 10:43:00       0.82     18087.0  United Kingdom   \n",
       "80742  2011-02-03 10:50:00       0.21     16333.0  United Kingdom   \n",
       "\n",
       "        CustomerID_enc     Amount          Bulk  \n",
       "61619                0   77183.60  36379.901961  \n",
       "540421            2619  168469.60  26297.077922  \n",
       "421632              61    1008.00   3966.942149  \n",
       "270885            1279     191.16   3005.660377  \n",
       "206121             228    3096.00   2500.000000  \n",
       "4945              2842     518.40   2440.677966  \n",
       "433788            2514     960.00   2272.727273  \n",
       "91772             1279     144.00   2264.150943  \n",
       "97432             3801    3202.92   2146.153846  \n",
       "80742             2531     544.32   2142.148760  "
      ]
     },
     "execution_count": 27,
     "metadata": {},
     "output_type": "execute_result"
    }
   ],
   "source": [
    "data_raw_explo.sort_values(by='Bulk', ascending=False).head(10)"
   ]
  },
  {
   "cell_type": "markdown",
   "metadata": {},
   "source": [
    "Again, those buy rather by large amounts of cheap items.\n",
    "\n",
    "What about those who buy a few expensive things ?"
   ]
  },
  {
   "cell_type": "code",
   "execution_count": 28,
   "metadata": {},
   "outputs": [
    {
     "data": {
      "text/html": [
       "<div>\n",
       "<style scoped>\n",
       "    .dataframe tbody tr th:only-of-type {\n",
       "        vertical-align: middle;\n",
       "    }\n",
       "\n",
       "    .dataframe tbody tr th {\n",
       "        vertical-align: top;\n",
       "    }\n",
       "\n",
       "    .dataframe thead th {\n",
       "        text-align: right;\n",
       "    }\n",
       "</style>\n",
       "<table border=\"1\" class=\"dataframe\">\n",
       "  <thead>\n",
       "    <tr style=\"text-align: right;\">\n",
       "      <th></th>\n",
       "      <th>InvoiceNo</th>\n",
       "      <th>StockCode</th>\n",
       "      <th>Description</th>\n",
       "      <th>Quantity</th>\n",
       "      <th>InvoiceDate</th>\n",
       "      <th>UnitPrice</th>\n",
       "      <th>CustomerID</th>\n",
       "      <th>Country</th>\n",
       "      <th>CustomerID_enc</th>\n",
       "      <th>Amount</th>\n",
       "      <th>Bulk</th>\n",
       "    </tr>\n",
       "  </thead>\n",
       "  <tbody>\n",
       "    <tr>\n",
       "      <th>173382</th>\n",
       "      <td>551697</td>\n",
       "      <td>POST</td>\n",
       "      <td>POSTAGE</td>\n",
       "      <td>1</td>\n",
       "      <td>2011-05-03 13:46:00</td>\n",
       "      <td>8142.75</td>\n",
       "      <td>16029.0</td>\n",
       "      <td>United Kingdom</td>\n",
       "      <td>2310</td>\n",
       "      <td>8142.75</td>\n",
       "      <td>0.000123</td>\n",
       "    </tr>\n",
       "    <tr>\n",
       "      <th>374542</th>\n",
       "      <td>569382</td>\n",
       "      <td>M</td>\n",
       "      <td>Manual</td>\n",
       "      <td>1</td>\n",
       "      <td>2011-10-03 16:44:00</td>\n",
       "      <td>3155.95</td>\n",
       "      <td>15502.0</td>\n",
       "      <td>United Kingdom</td>\n",
       "      <td>1919</td>\n",
       "      <td>3155.95</td>\n",
       "      <td>0.000317</td>\n",
       "    </tr>\n",
       "    <tr>\n",
       "      <th>297438</th>\n",
       "      <td>562946</td>\n",
       "      <td>M</td>\n",
       "      <td>Manual</td>\n",
       "      <td>1</td>\n",
       "      <td>2011-08-11 09:38:00</td>\n",
       "      <td>2500.00</td>\n",
       "      <td>15581.0</td>\n",
       "      <td>United Kingdom</td>\n",
       "      <td>1982</td>\n",
       "      <td>2500.00</td>\n",
       "      <td>0.000400</td>\n",
       "    </tr>\n",
       "    <tr>\n",
       "      <th>343000</th>\n",
       "      <td>566927</td>\n",
       "      <td>M</td>\n",
       "      <td>Manual</td>\n",
       "      <td>1</td>\n",
       "      <td>2011-09-15 15:20:00</td>\n",
       "      <td>2033.10</td>\n",
       "      <td>17846.0</td>\n",
       "      <td>United Kingdom</td>\n",
       "      <td>3623</td>\n",
       "      <td>2033.10</td>\n",
       "      <td>0.000492</td>\n",
       "    </tr>\n",
       "    <tr>\n",
       "      <th>150615</th>\n",
       "      <td>549468</td>\n",
       "      <td>M</td>\n",
       "      <td>Manual</td>\n",
       "      <td>1</td>\n",
       "      <td>2011-04-08 14:27:00</td>\n",
       "      <td>1867.86</td>\n",
       "      <td>17940.0</td>\n",
       "      <td>United Kingdom</td>\n",
       "      <td>3697</td>\n",
       "      <td>1867.86</td>\n",
       "      <td>0.000535</td>\n",
       "    </tr>\n",
       "    <tr>\n",
       "      <th>528082</th>\n",
       "      <td>580727</td>\n",
       "      <td>DOT</td>\n",
       "      <td>DOTCOM POSTAGE</td>\n",
       "      <td>1</td>\n",
       "      <td>2011-12-05 17:17:00</td>\n",
       "      <td>1599.26</td>\n",
       "      <td>14096.0</td>\n",
       "      <td>United Kingdom</td>\n",
       "      <td>909</td>\n",
       "      <td>1599.26</td>\n",
       "      <td>0.000625</td>\n",
       "    </tr>\n",
       "    <tr>\n",
       "      <th>508459</th>\n",
       "      <td>579196</td>\n",
       "      <td>DOT</td>\n",
       "      <td>DOTCOM POSTAGE</td>\n",
       "      <td>1</td>\n",
       "      <td>2011-11-28 15:54:00</td>\n",
       "      <td>1526.76</td>\n",
       "      <td>14096.0</td>\n",
       "      <td>United Kingdom</td>\n",
       "      <td>909</td>\n",
       "      <td>1526.76</td>\n",
       "      <td>0.000655</td>\n",
       "    </tr>\n",
       "    <tr>\n",
       "      <th>467436</th>\n",
       "      <td>576339</td>\n",
       "      <td>DOT</td>\n",
       "      <td>DOTCOM POSTAGE</td>\n",
       "      <td>1</td>\n",
       "      <td>2011-11-14 15:27:00</td>\n",
       "      <td>1500.36</td>\n",
       "      <td>14096.0</td>\n",
       "      <td>United Kingdom</td>\n",
       "      <td>909</td>\n",
       "      <td>1500.36</td>\n",
       "      <td>0.000666</td>\n",
       "    </tr>\n",
       "    <tr>\n",
       "      <th>494728</th>\n",
       "      <td>578270</td>\n",
       "      <td>DOT</td>\n",
       "      <td>DOTCOM POSTAGE</td>\n",
       "      <td>1</td>\n",
       "      <td>2011-11-23 13:39:00</td>\n",
       "      <td>1270.06</td>\n",
       "      <td>14096.0</td>\n",
       "      <td>United Kingdom</td>\n",
       "      <td>909</td>\n",
       "      <td>1270.06</td>\n",
       "      <td>0.000787</td>\n",
       "    </tr>\n",
       "    <tr>\n",
       "      <th>455261</th>\n",
       "      <td>575607</td>\n",
       "      <td>DOT</td>\n",
       "      <td>DOTCOM POSTAGE</td>\n",
       "      <td>1</td>\n",
       "      <td>2011-11-10 12:37:00</td>\n",
       "      <td>908.16</td>\n",
       "      <td>14096.0</td>\n",
       "      <td>United Kingdom</td>\n",
       "      <td>909</td>\n",
       "      <td>908.16</td>\n",
       "      <td>0.001100</td>\n",
       "    </tr>\n",
       "  </tbody>\n",
       "</table>\n",
       "</div>"
      ],
      "text/plain": [
       "       InvoiceNo StockCode     Description  Quantity         InvoiceDate  \\\n",
       "173382    551697      POST         POSTAGE         1 2011-05-03 13:46:00   \n",
       "374542    569382         M          Manual         1 2011-10-03 16:44:00   \n",
       "297438    562946         M          Manual         1 2011-08-11 09:38:00   \n",
       "343000    566927         M          Manual         1 2011-09-15 15:20:00   \n",
       "150615    549468         M          Manual         1 2011-04-08 14:27:00   \n",
       "528082    580727       DOT  DOTCOM POSTAGE         1 2011-12-05 17:17:00   \n",
       "508459    579196       DOT  DOTCOM POSTAGE         1 2011-11-28 15:54:00   \n",
       "467436    576339       DOT  DOTCOM POSTAGE         1 2011-11-14 15:27:00   \n",
       "494728    578270       DOT  DOTCOM POSTAGE         1 2011-11-23 13:39:00   \n",
       "455261    575607       DOT  DOTCOM POSTAGE         1 2011-11-10 12:37:00   \n",
       "\n",
       "        UnitPrice  CustomerID         Country  CustomerID_enc   Amount  \\\n",
       "173382    8142.75     16029.0  United Kingdom            2310  8142.75   \n",
       "374542    3155.95     15502.0  United Kingdom            1919  3155.95   \n",
       "297438    2500.00     15581.0  United Kingdom            1982  2500.00   \n",
       "343000    2033.10     17846.0  United Kingdom            3623  2033.10   \n",
       "150615    1867.86     17940.0  United Kingdom            3697  1867.86   \n",
       "528082    1599.26     14096.0  United Kingdom             909  1599.26   \n",
       "508459    1526.76     14096.0  United Kingdom             909  1526.76   \n",
       "467436    1500.36     14096.0  United Kingdom             909  1500.36   \n",
       "494728    1270.06     14096.0  United Kingdom             909  1270.06   \n",
       "455261     908.16     14096.0  United Kingdom             909   908.16   \n",
       "\n",
       "            Bulk  \n",
       "173382  0.000123  \n",
       "374542  0.000317  \n",
       "297438  0.000400  \n",
       "343000  0.000492  \n",
       "150615  0.000535  \n",
       "528082  0.000625  \n",
       "508459  0.000655  \n",
       "467436  0.000666  \n",
       "494728  0.000787  \n",
       "455261  0.001100  "
      ]
     },
     "execution_count": 28,
     "metadata": {},
     "output_type": "execute_result"
    }
   ],
   "source": [
    "data_raw_explo.sort_values(by='Bulk', ascending=True).head(10)"
   ]
  },
  {
   "cell_type": "markdown",
   "metadata": {},
   "source": [
    "Many 'POST' or 'Manual' or 'DOTCOM POSTAGE' ?"
   ]
  },
  {
   "cell_type": "code",
   "execution_count": 29,
   "metadata": {},
   "outputs": [
    {
     "name": "stdout",
     "output_type": "stream",
     "text": [
      "286 of those found in the dataset, that is to say 0.082 % of the dataset\n"
     ]
    }
   ],
   "source": [
    "number = data_raw_explo[data_raw_explo.StockCode.isin(['POST', 'M', 'DOT'])].shape[0]\n",
    "print(\"%i of those found in the dataset, that is to say %.3f %% of the dataset\" % (number, number / data_raw_explo.shape[0] * 100))"
   ]
  },
  {
   "cell_type": "markdown",
   "metadata": {},
   "source": [
    "Well this is expensive things indeed, but those are not usual items for sale. It appears that manuals and shipment may be very expensive, we will not consider those items for our customers analysis."
   ]
  },
  {
   "cell_type": "markdown",
   "metadata": {},
   "source": [
    "Separating those \"other codes\" :\n",
    "\n",
    "- Convert stock codes to strings"
   ]
  },
  {
   "cell_type": "code",
   "execution_count": 30,
   "metadata": {},
   "outputs": [],
   "source": [
    "data_raw_explo.StockCode = data_raw_explo.StockCode.astype(str)"
   ]
  },
  {
   "cell_type": "markdown",
   "metadata": {},
   "source": [
    "List stock codes"
   ]
  },
  {
   "cell_type": "code",
   "execution_count": 31,
   "metadata": {},
   "outputs": [],
   "source": [
    "stock_codes = []\n",
    "other_codes = []\n",
    "for code in data_raw_explo.StockCode.unique() :\n",
    "    if code[0].isdigit() :\n",
    "        stock_codes.append(code)\n",
    "    else :\n",
    "        other_codes.append(code)"
   ]
  },
  {
   "cell_type": "code",
   "execution_count": 32,
   "metadata": {},
   "outputs": [
    {
     "name": "stdout",
     "output_type": "stream",
     "text": [
      "['M', 'BANK CHARGES', 'C2', 'POST', 'PADS', 'DOT']\n"
     ]
    }
   ],
   "source": [
    "print(other_codes)"
   ]
  },
  {
   "cell_type": "markdown",
   "metadata": {},
   "source": [
    "- POST : Expedition cost\n",
    "-  C2  : Carriage cost\n",
    "- DOT  : DOTCOM Expedition cost\n",
    "-  M   : Manual order (is it really manuals ?)\n",
    "- PADS : Pad for cunshion, actual product ?\n",
    "- BANK CHARGES : Bank fees"
   ]
  },
  {
   "cell_type": "markdown",
   "metadata": {},
   "source": [
    "Select the data about actual sold items"
   ]
  },
  {
   "cell_type": "code",
   "execution_count": 33,
   "metadata": {},
   "outputs": [
    {
     "name": "stdout",
     "output_type": "stream",
     "text": [
      "'Only' 331 'other codes' that is to say 0.09 % of the data\n"
     ]
    }
   ],
   "source": [
    "data_stock_codes = data_raw_explo[data_raw_explo.StockCode.isin(stock_codes)]\n",
    "n_other_codes = data_raw_explo[data_raw_explo.StockCode.isin(other_codes)].shape[0]\n",
    "print(\"'Only' %i 'other codes' that is to say %.2f %% of the data\" % (n_other_codes, n_other_codes * 100 / data_raw_explo.shape[0]))"
   ]
  },
  {
   "cell_type": "markdown",
   "metadata": {},
   "source": [
    "Let's see again the 'selective' buyers"
   ]
  },
  {
   "cell_type": "code",
   "execution_count": 34,
   "metadata": {},
   "outputs": [
    {
     "data": {
      "text/html": [
       "<div>\n",
       "<style scoped>\n",
       "    .dataframe tbody tr th:only-of-type {\n",
       "        vertical-align: middle;\n",
       "    }\n",
       "\n",
       "    .dataframe tbody tr th {\n",
       "        vertical-align: top;\n",
       "    }\n",
       "\n",
       "    .dataframe thead th {\n",
       "        text-align: right;\n",
       "    }\n",
       "</style>\n",
       "<table border=\"1\" class=\"dataframe\">\n",
       "  <thead>\n",
       "    <tr style=\"text-align: right;\">\n",
       "      <th></th>\n",
       "      <th>InvoiceNo</th>\n",
       "      <th>StockCode</th>\n",
       "      <th>Description</th>\n",
       "      <th>Quantity</th>\n",
       "      <th>InvoiceDate</th>\n",
       "      <th>UnitPrice</th>\n",
       "      <th>CustomerID</th>\n",
       "      <th>Country</th>\n",
       "      <th>CustomerID_enc</th>\n",
       "      <th>Amount</th>\n",
       "      <th>Bulk</th>\n",
       "    </tr>\n",
       "  </thead>\n",
       "  <tbody>\n",
       "    <tr>\n",
       "      <th>222682</th>\n",
       "      <td>556446</td>\n",
       "      <td>22502</td>\n",
       "      <td>PICNIC BASKET WICKER 60 PIECES</td>\n",
       "      <td>1</td>\n",
       "      <td>2011-06-10 15:33:00</td>\n",
       "      <td>649.5</td>\n",
       "      <td>15098.0</td>\n",
       "      <td>United Kingdom</td>\n",
       "      <td>1619</td>\n",
       "      <td>649.5</td>\n",
       "      <td>0.001537</td>\n",
       "    </tr>\n",
       "    <tr>\n",
       "      <th>171178</th>\n",
       "      <td>551393</td>\n",
       "      <td>22656</td>\n",
       "      <td>VINTAGE BLUE KITCHEN CABINET</td>\n",
       "      <td>1</td>\n",
       "      <td>2011-04-28 12:22:00</td>\n",
       "      <td>295.0</td>\n",
       "      <td>14973.0</td>\n",
       "      <td>United Kingdom</td>\n",
       "      <td>1529</td>\n",
       "      <td>295.0</td>\n",
       "      <td>0.003378</td>\n",
       "    </tr>\n",
       "    <tr>\n",
       "      <th>51636</th>\n",
       "      <td>540647</td>\n",
       "      <td>22655</td>\n",
       "      <td>VINTAGE RED KITCHEN CABINET</td>\n",
       "      <td>1</td>\n",
       "      <td>2011-01-10 14:57:00</td>\n",
       "      <td>295.0</td>\n",
       "      <td>17406.0</td>\n",
       "      <td>United Kingdom</td>\n",
       "      <td>3308</td>\n",
       "      <td>295.0</td>\n",
       "      <td>0.003378</td>\n",
       "    </tr>\n",
       "    <tr>\n",
       "      <th>82768</th>\n",
       "      <td>543253</td>\n",
       "      <td>22655</td>\n",
       "      <td>VINTAGE RED KITCHEN CABINET</td>\n",
       "      <td>1</td>\n",
       "      <td>2011-02-04 15:32:00</td>\n",
       "      <td>295.0</td>\n",
       "      <td>14842.0</td>\n",
       "      <td>United Kingdom</td>\n",
       "      <td>1444</td>\n",
       "      <td>295.0</td>\n",
       "      <td>0.003378</td>\n",
       "    </tr>\n",
       "    <tr>\n",
       "      <th>205759</th>\n",
       "      <td>554836</td>\n",
       "      <td>22655</td>\n",
       "      <td>VINTAGE RED KITCHEN CABINET</td>\n",
       "      <td>1</td>\n",
       "      <td>2011-05-26 16:25:00</td>\n",
       "      <td>295.0</td>\n",
       "      <td>13015.0</td>\n",
       "      <td>United Kingdom</td>\n",
       "      <td>143</td>\n",
       "      <td>295.0</td>\n",
       "      <td>0.003378</td>\n",
       "    </tr>\n",
       "  </tbody>\n",
       "</table>\n",
       "</div>"
      ],
      "text/plain": [
       "       InvoiceNo StockCode                     Description  Quantity  \\\n",
       "222682    556446     22502  PICNIC BASKET WICKER 60 PIECES         1   \n",
       "171178    551393     22656    VINTAGE BLUE KITCHEN CABINET         1   \n",
       "51636     540647     22655     VINTAGE RED KITCHEN CABINET         1   \n",
       "82768     543253     22655     VINTAGE RED KITCHEN CABINET         1   \n",
       "205759    554836     22655     VINTAGE RED KITCHEN CABINET         1   \n",
       "\n",
       "               InvoiceDate  UnitPrice  CustomerID         Country  \\\n",
       "222682 2011-06-10 15:33:00      649.5     15098.0  United Kingdom   \n",
       "171178 2011-04-28 12:22:00      295.0     14973.0  United Kingdom   \n",
       "51636  2011-01-10 14:57:00      295.0     17406.0  United Kingdom   \n",
       "82768  2011-02-04 15:32:00      295.0     14842.0  United Kingdom   \n",
       "205759 2011-05-26 16:25:00      295.0     13015.0  United Kingdom   \n",
       "\n",
       "        CustomerID_enc  Amount      Bulk  \n",
       "222682            1619   649.5  0.001537  \n",
       "171178            1529   295.0  0.003378  \n",
       "51636             3308   295.0  0.003378  \n",
       "82768             1444   295.0  0.003378  \n",
       "205759             143   295.0  0.003378  "
      ]
     },
     "execution_count": 34,
     "metadata": {},
     "output_type": "execute_result"
    }
   ],
   "source": [
    "data_stock_codes.sort_values(by='Bulk', ascending=True).head(5)"
   ]
  },
  {
   "cell_type": "code",
   "execution_count": 35,
   "metadata": {},
   "outputs": [
    {
     "data": {
      "image/png": "[encoded data removed]",
      "text/plain": [
       "<Figure size 900x360 with 1 Axes>"
      ]
     },
     "metadata": {},
     "output_type": "display_data"
    }
   ],
   "source": [
    "# Set seaborn style\n",
    "sns.set_style(\"white\")\n",
    "# Seaborn scatter plot\n",
    "sns.lmplot('CustomerID_enc', 'Bulk', data=data_stock_codes, fit_reg=False, aspect=2.5)\n",
    "# Add axes labels\n",
    "ax = plt.gca()\n",
    "ax.set_xlabel('CustomerID', fontsize=15)\n",
    "ax.set_ylabel('Tendency to buy in bulk', fontsize=15);"
   ]
  },
  {
   "cell_type": "markdown",
   "metadata": {},
   "source": [
    "Much better"
   ]
  },
  {
   "cell_type": "markdown",
   "metadata": {},
   "source": [
    "Same considerations but averaged by order (invoice)"
   ]
  },
  {
   "cell_type": "code",
   "execution_count": 36,
   "metadata": {},
   "outputs": [
    {
     "data": {
      "text/html": [
       "<div>\n",
       "<style scoped>\n",
       "    .dataframe tbody tr th:only-of-type {\n",
       "        vertical-align: middle;\n",
       "    }\n",
       "\n",
       "    .dataframe tbody tr th {\n",
       "        vertical-align: top;\n",
       "    }\n",
       "\n",
       "    .dataframe thead th {\n",
       "        text-align: right;\n",
       "    }\n",
       "</style>\n",
       "<table border=\"1\" class=\"dataframe\">\n",
       "  <thead>\n",
       "    <tr style=\"text-align: right;\">\n",
       "      <th></th>\n",
       "      <th>CustomerID_enc</th>\n",
       "      <th>Quantity</th>\n",
       "      <th>UnitPrice</th>\n",
       "      <th>Bulk</th>\n",
       "    </tr>\n",
       "    <tr>\n",
       "      <th>InvoiceNo</th>\n",
       "      <th></th>\n",
       "      <th></th>\n",
       "      <th></th>\n",
       "      <th></th>\n",
       "    </tr>\n",
       "  </thead>\n",
       "  <tbody>\n",
       "    <tr>\n",
       "      <th>536365</th>\n",
       "      <td>3626</td>\n",
       "      <td>5.714286</td>\n",
       "      <td>3.910000</td>\n",
       "      <td>1.328253</td>\n",
       "    </tr>\n",
       "    <tr>\n",
       "      <th>536366</th>\n",
       "      <td>3626</td>\n",
       "      <td>6.000000</td>\n",
       "      <td>1.850000</td>\n",
       "      <td>2.105263</td>\n",
       "    </tr>\n",
       "    <tr>\n",
       "      <th>536367</th>\n",
       "      <td>165</td>\n",
       "      <td>6.916667</td>\n",
       "      <td>4.853333</td>\n",
       "      <td>1.941843</td>\n",
       "    </tr>\n",
       "    <tr>\n",
       "      <th>536368</th>\n",
       "      <td>165</td>\n",
       "      <td>3.750000</td>\n",
       "      <td>4.775000</td>\n",
       "      <td>0.663866</td>\n",
       "    </tr>\n",
       "    <tr>\n",
       "      <th>536369</th>\n",
       "      <td>165</td>\n",
       "      <td>3.000000</td>\n",
       "      <td>5.950000</td>\n",
       "      <td>0.431655</td>\n",
       "    </tr>\n",
       "  </tbody>\n",
       "</table>\n",
       "</div>"
      ],
      "text/plain": [
       "           CustomerID_enc  Quantity  UnitPrice      Bulk\n",
       "InvoiceNo                                               \n",
       "536365               3626  5.714286   3.910000  1.328253\n",
       "536366               3626  6.000000   1.850000  2.105263\n",
       "536367                165  6.916667   4.853333  1.941843\n",
       "536368                165  3.750000   4.775000  0.663866\n",
       "536369                165  3.000000   5.950000  0.431655"
      ]
     },
     "execution_count": 36,
     "metadata": {},
     "output_type": "execute_result"
    }
   ],
   "source": [
    "invoice_df = data_stock_codes.groupby('InvoiceNo').agg({'CustomerID_enc': lambda x: x.mean(),\n",
    "                                                        'Quantity': lambda x: x.mean(),\n",
    "                                                        'UnitPrice': lambda x: x.mean(),\n",
    "                                                        'Bulk': lambda x: x.mean()})\n",
    "invoice_df.head()"
   ]
  },
  {
   "cell_type": "code",
   "execution_count": 37,
   "metadata": {},
   "outputs": [
    {
     "data": {
      "text/html": [
       "<div>\n",
       "<style scoped>\n",
       "    .dataframe tbody tr th:only-of-type {\n",
       "        vertical-align: middle;\n",
       "    }\n",
       "\n",
       "    .dataframe tbody tr th {\n",
       "        vertical-align: top;\n",
       "    }\n",
       "\n",
       "    .dataframe thead th {\n",
       "        text-align: right;\n",
       "    }\n",
       "</style>\n",
       "<table border=\"1\" class=\"dataframe\">\n",
       "  <thead>\n",
       "    <tr style=\"text-align: right;\">\n",
       "      <th></th>\n",
       "      <th>CustomerID_enc</th>\n",
       "      <th>Quantity</th>\n",
       "      <th>UnitPrice</th>\n",
       "      <th>Bulk</th>\n",
       "    </tr>\n",
       "    <tr>\n",
       "      <th>CustomerID_enc</th>\n",
       "      <th></th>\n",
       "      <th></th>\n",
       "      <th></th>\n",
       "      <th></th>\n",
       "    </tr>\n",
       "  </thead>\n",
       "  <tbody>\n",
       "    <tr>\n",
       "      <th>0</th>\n",
       "      <td>0</td>\n",
       "      <td>74215.000000</td>\n",
       "      <td>1.040000</td>\n",
       "      <td>36379.901961</td>\n",
       "    </tr>\n",
       "    <tr>\n",
       "      <th>1</th>\n",
       "      <td>1</td>\n",
       "      <td>12.796737</td>\n",
       "      <td>4.253949</td>\n",
       "      <td>3.543142</td>\n",
       "    </tr>\n",
       "    <tr>\n",
       "      <th>2</th>\n",
       "      <td>2</td>\n",
       "      <td>8.900291</td>\n",
       "      <td>2.728614</td>\n",
       "      <td>5.151464</td>\n",
       "    </tr>\n",
       "    <tr>\n",
       "      <th>3</th>\n",
       "      <td>3</td>\n",
       "      <td>6.567653</td>\n",
       "      <td>4.812586</td>\n",
       "      <td>2.095416</td>\n",
       "    </tr>\n",
       "    <tr>\n",
       "      <th>4</th>\n",
       "      <td>4</td>\n",
       "      <td>12.361742</td>\n",
       "      <td>1.902633</td>\n",
       "      <td>6.277319</td>\n",
       "    </tr>\n",
       "  </tbody>\n",
       "</table>\n",
       "</div>"
      ],
      "text/plain": [
       "                CustomerID_enc      Quantity  UnitPrice          Bulk\n",
       "CustomerID_enc                                                       \n",
       "0                            0  74215.000000   1.040000  36379.901961\n",
       "1                            1     12.796737   4.253949      3.543142\n",
       "2                            2      8.900291   2.728614      5.151464\n",
       "3                            3      6.567653   4.812586      2.095416\n",
       "4                            4     12.361742   1.902633      6.277319"
      ]
     },
     "execution_count": 37,
     "metadata": {},
     "output_type": "execute_result"
    }
   ],
   "source": [
    "customer_invoice_df = invoice_df.groupby('CustomerID_enc').agg({'CustomerID_enc': lambda x: x.mean(),\n",
    "                                                                'Quantity': lambda x: x.mean(),\n",
    "                                                                'UnitPrice': lambda x: x.mean(),\n",
    "                                                                'Bulk': lambda x: x.mean()})\n",
    "customer_invoice_df.head()"
   ]
  },
  {
   "cell_type": "code",
   "execution_count": 38,
   "metadata": {},
   "outputs": [
    {
     "data": {
      "image/png": "[encoded data removed]",
      "text/plain": [
       "<Figure size 900x360 with 1 Axes>"
      ]
     },
     "metadata": {},
     "output_type": "display_data"
    }
   ],
   "source": [
    "# Set seaborn style\n",
    "sns.set_style(\"white\")\n",
    "# Seaborn scatter plot\n",
    "sns.lmplot('CustomerID_enc', 'Bulk', data=customer_invoice_df, fit_reg=False, aspect=2.5)\n",
    "# Add axes labels\n",
    "ax = plt.gca()\n",
    "ax.set_xlabel('CustomerID', fontsize=15)\n",
    "ax.set_ylabel('Average bulk coefficient by invoice', fontsize=15);"
   ]
  },
  {
   "cell_type": "markdown",
   "metadata": {},
   "source": [
    "# 5) New Datasets by customer"
   ]
  },
  {
   "cell_type": "markdown",
   "metadata": {},
   "source": [
    "## 5.1) New Dataset by customer according to 1st and main items ordered"
   ]
  },
  {
   "cell_type": "code",
   "execution_count": 39,
   "metadata": {},
   "outputs": [
    {
     "name": "stderr",
     "output_type": "stream",
     "text": [
      "C:\\Users\\simon\\Anaconda3\\lib\\site-packages\\sklearn\\preprocessing\\label.py:151: DeprecationWarning: The truth value of an empty array is ambiguous. Returning False, but in future this will result in an error. Use `array.size > 0` to check that an array is not empty.\n",
      "  if diff:\n"
     ]
    }
   ],
   "source": [
    "customers_df = pd.DataFrame(np.sort(data_stock_codes.CustomerID_enc.unique()), columns=['ID_enc'])\n",
    "customers_df['ID'] = le_id.inverse_transform(customers_df['ID_enc'].values.astype('int64'))"
   ]
  },
  {
   "cell_type": "markdown",
   "metadata": {},
   "source": [
    "First order specifics"
   ]
  },
  {
   "cell_type": "code",
   "execution_count": 40,
   "metadata": {},
   "outputs": [],
   "source": [
    "customers_df['1st_order'] = customers_df.ID.apply(lambda x : data_stock_codes.StockCode[data_stock_codes.CustomerID == x].iloc[0])\n",
    "customers_df['1st_order_qty'] = customers_df.ID.apply(lambda x : data_stock_codes.Quantity[data_stock_codes.CustomerID == x].iloc[0])\n",
    "customers_df['1st_order_descr'] = customers_df.ID.apply(lambda x : data_stock_codes.Description[data_stock_codes.CustomerID == x].iloc[0])\n",
    "customers_df['1st_order_amount'] = customers_df.ID.apply(lambda x : data_stock_codes.Amount[data_stock_codes.CustomerID == x].iloc[0])"
   ]
  },
  {
   "cell_type": "markdown",
   "metadata": {},
   "source": [
    "Most frequent order specifics"
   ]
  },
  {
   "cell_type": "code",
   "execution_count": 41,
   "metadata": {},
   "outputs": [
    {
     "name": "stdout",
     "output_type": "stream",
     "text": [
      "Product\n",
      "Quantity\n",
      "Description\n",
      "Amount\n"
     ]
    }
   ],
   "source": [
    "print(\"Product\")\n",
    "customers_df['mf_order'] = customers_df.ID.apply(lambda x : data_stock_codes.StockCode[data_stock_codes.CustomerID == x].value_counts().index.values[0])\n",
    "print(\"Quantity\")\n",
    "customers_df['mf_order_qty'] = customers_df.mf_order.apply(lambda x : data_stock_codes.Quantity[data_stock_codes.StockCode == x].value_counts().index.values[0])\n",
    "print(\"Description\")\n",
    "customers_df['mf_order_descr'] = customers_df.mf_order.apply(lambda x : data_stock_codes.Description[data_stock_codes.StockCode == x].iloc[0])\n",
    "print(\"Amount\")\n",
    "customers_df['mf_order_amount'] = customers_df.mf_order.apply(lambda x : data_stock_codes.Amount[data_stock_codes.StockCode == x].value_counts().index.values[0])"
   ]
  },
  {
   "cell_type": "code",
   "execution_count": 42,
   "metadata": {},
   "outputs": [
    {
     "data": {
      "text/html": [
       "<div>\n",
       "<style scoped>\n",
       "    .dataframe tbody tr th:only-of-type {\n",
       "        vertical-align: middle;\n",
       "    }\n",
       "\n",
       "    .dataframe tbody tr th {\n",
       "        vertical-align: top;\n",
       "    }\n",
       "\n",
       "    .dataframe thead th {\n",
       "        text-align: right;\n",
       "    }\n",
       "</style>\n",
       "<table border=\"1\" class=\"dataframe\">\n",
       "  <thead>\n",
       "    <tr style=\"text-align: right;\">\n",
       "      <th></th>\n",
       "      <th>ID_enc</th>\n",
       "      <th>ID</th>\n",
       "      <th>1st_order</th>\n",
       "      <th>1st_order_qty</th>\n",
       "      <th>1st_order_descr</th>\n",
       "      <th>1st_order_amount</th>\n",
       "      <th>mf_order</th>\n",
       "      <th>mf_order_qty</th>\n",
       "      <th>mf_order_descr</th>\n",
       "      <th>mf_order_amount</th>\n",
       "    </tr>\n",
       "  </thead>\n",
       "  <tbody>\n",
       "    <tr>\n",
       "      <th>0</th>\n",
       "      <td>0</td>\n",
       "      <td>12346.0</td>\n",
       "      <td>23166</td>\n",
       "      <td>74215</td>\n",
       "      <td>MEDIUM CERAMIC TOP STORAGE JAR</td>\n",
       "      <td>77183.60</td>\n",
       "      <td>23166</td>\n",
       "      <td>12</td>\n",
       "      <td>MEDIUM CERAMIC TOP STORAGE JAR</td>\n",
       "      <td>15.00</td>\n",
       "    </tr>\n",
       "    <tr>\n",
       "      <th>1</th>\n",
       "      <td>1</td>\n",
       "      <td>12747.0</td>\n",
       "      <td>85124C</td>\n",
       "      <td>12</td>\n",
       "      <td>GREEN JUICY FRUIT PHOTO FRAME</td>\n",
       "      <td>30.60</td>\n",
       "      <td>82484</td>\n",
       "      <td>2</td>\n",
       "      <td>WOOD BLACK BOARD ANT WHITE FINISH</td>\n",
       "      <td>15.90</td>\n",
       "    </tr>\n",
       "    <tr>\n",
       "      <th>2</th>\n",
       "      <td>2</td>\n",
       "      <td>12748.0</td>\n",
       "      <td>22854</td>\n",
       "      <td>1</td>\n",
       "      <td>CREAM SWEETHEART EGG HOLDER</td>\n",
       "      <td>4.95</td>\n",
       "      <td>21034</td>\n",
       "      <td>1</td>\n",
       "      <td>REX CASH+CARRY JUMBO SHOPPER</td>\n",
       "      <td>0.95</td>\n",
       "    </tr>\n",
       "    <tr>\n",
       "      <th>3</th>\n",
       "      <td>3</td>\n",
       "      <td>12749.0</td>\n",
       "      <td>22768</td>\n",
       "      <td>2</td>\n",
       "      <td>FAMILY PHOTO FRAME CORNICE</td>\n",
       "      <td>19.90</td>\n",
       "      <td>22171</td>\n",
       "      <td>2</td>\n",
       "      <td>3 HOOK PHOTO SHELF ANTIQUE WHITE</td>\n",
       "      <td>17.00</td>\n",
       "    </tr>\n",
       "    <tr>\n",
       "      <th>4</th>\n",
       "      <td>4</td>\n",
       "      <td>12820.0</td>\n",
       "      <td>21977</td>\n",
       "      <td>24</td>\n",
       "      <td>PACK OF 60 PINK PAISLEY CAKE CASES</td>\n",
       "      <td>13.20</td>\n",
       "      <td>84946</td>\n",
       "      <td>12</td>\n",
       "      <td>ANTIQUE SILVER TEA GLASS ETCHED</td>\n",
       "      <td>15.00</td>\n",
       "    </tr>\n",
       "  </tbody>\n",
       "</table>\n",
       "</div>"
      ],
      "text/plain": [
       "   ID_enc       ID 1st_order  1st_order_qty  \\\n",
       "0       0  12346.0     23166          74215   \n",
       "1       1  12747.0    85124C             12   \n",
       "2       2  12748.0     22854              1   \n",
       "3       3  12749.0     22768              2   \n",
       "4       4  12820.0     21977             24   \n",
       "\n",
       "                      1st_order_descr  1st_order_amount mf_order  \\\n",
       "0      MEDIUM CERAMIC TOP STORAGE JAR          77183.60    23166   \n",
       "1       GREEN JUICY FRUIT PHOTO FRAME             30.60    82484   \n",
       "2         CREAM SWEETHEART EGG HOLDER              4.95    21034   \n",
       "3          FAMILY PHOTO FRAME CORNICE             19.90    22171   \n",
       "4  PACK OF 60 PINK PAISLEY CAKE CASES             13.20    84946   \n",
       "\n",
       "   mf_order_qty                     mf_order_descr  mf_order_amount  \n",
       "0            12     MEDIUM CERAMIC TOP STORAGE JAR            15.00  \n",
       "1             2  WOOD BLACK BOARD ANT WHITE FINISH            15.90  \n",
       "2             1       REX CASH+CARRY JUMBO SHOPPER             0.95  \n",
       "3             2   3 HOOK PHOTO SHELF ANTIQUE WHITE            17.00  \n",
       "4            12    ANTIQUE SILVER TEA GLASS ETCHED            15.00  "
      ]
     },
     "execution_count": 42,
     "metadata": {},
     "output_type": "execute_result"
    }
   ],
   "source": [
    "customers_df.head()"
   ]
  },
  {
   "cell_type": "markdown",
   "metadata": {},
   "source": [
    "Save dataframe for clients segmentation"
   ]
  },
  {
   "cell_type": "code",
   "execution_count": 43,
   "metadata": {},
   "outputs": [],
   "source": [
    "customers_df.to_csv(\"data/customers_data.csv\", index=False)"
   ]
  },
  {
   "cell_type": "markdown",
   "metadata": {},
   "source": [
    "## 5.2) New Dataset by customer : RFM matrix analysis"
   ]
  },
  {
   "cell_type": "markdown",
   "metadata": {},
   "source": [
    "From : https://towardsdatascience.com/find-your-best-customers-with-customer-segmentation-in-python-61d602f9eee6\n",
    "When it comes to finding out who your best customers are, the old *RFM matrix* principle is the best. RFM stands for Recency, Frequency and Monetary. It is a customer segmentation technique that uses past purchase behavior to divide customers into groups.\n",
    "\n",
    "RFM Score Calculations :\n",
    "\n",
    "- **RECENCY (R)**: Days since last purchase\n",
    "- **FREQUENCY (F)**: Total number of purchases\n",
    "- **MONETARY VALUE (M)**: Total money this customer spent\n",
    "\n",
    "Steps :\n",
    "\n",
    "- **Step 1**: Calculate the RFM metrics for each customer.\n",
    "- **Step 2**: Add segment numbers to RFM table.\n",
    "- **Step 3**: Sort according to the RFM scores from the best customers (score 111).\n",
    "\n",
    "We won't be interested in step 3 as we don't want to sort but to classify"
   ]
  },
  {
   "cell_type": "markdown",
   "metadata": {},
   "source": [
    "In order to set RFM score we need to set a point in time for calculation. Let's set it to the first day following the data"
   ]
  },
  {
   "cell_type": "code",
   "execution_count": 44,
   "metadata": {},
   "outputs": [],
   "source": [
    "NOW_TIME = datetime.datetime(2011, 12, 10, 0, 0, 0)"
   ]
  },
  {
   "cell_type": "markdown",
   "metadata": {},
   "source": [
    "Create RFM table"
   ]
  },
  {
   "cell_type": "code",
   "execution_count": 45,
   "metadata": {},
   "outputs": [],
   "source": [
    "rfmTable = data_stock_codes.groupby('CustomerID_enc').agg({'InvoiceDate': lambda x: (NOW_TIME - x.max()).days,\n",
    "                                                           'InvoiceNo': lambda x: len(x),\n",
    "                                                           'Amount': lambda x: x.sum()})\n",
    "rfmTable.rename(columns={'InvoiceDate': 'recency', \n",
    "                         'InvoiceNo': 'frequency', \n",
    "                         'Amount': 'monetary_value'}, inplace=True)"
   ]
  },
  {
   "cell_type": "code",
   "execution_count": 46,
   "metadata": {},
   "outputs": [
    {
     "data": {
      "text/html": [
       "<div>\n",
       "<style scoped>\n",
       "    .dataframe tbody tr th:only-of-type {\n",
       "        vertical-align: middle;\n",
       "    }\n",
       "\n",
       "    .dataframe tbody tr th {\n",
       "        vertical-align: top;\n",
       "    }\n",
       "\n",
       "    .dataframe thead th {\n",
       "        text-align: right;\n",
       "    }\n",
       "</style>\n",
       "<table border=\"1\" class=\"dataframe\">\n",
       "  <thead>\n",
       "    <tr style=\"text-align: right;\">\n",
       "      <th></th>\n",
       "      <th>recency</th>\n",
       "      <th>frequency</th>\n",
       "      <th>monetary_value</th>\n",
       "    </tr>\n",
       "    <tr>\n",
       "      <th>CustomerID_enc</th>\n",
       "      <th></th>\n",
       "      <th></th>\n",
       "      <th></th>\n",
       "    </tr>\n",
       "  </thead>\n",
       "  <tbody>\n",
       "    <tr>\n",
       "      <th>0</th>\n",
       "      <td>325</td>\n",
       "      <td>1</td>\n",
       "      <td>77183.60</td>\n",
       "    </tr>\n",
       "    <tr>\n",
       "      <th>1</th>\n",
       "      <td>2</td>\n",
       "      <td>103</td>\n",
       "      <td>4196.01</td>\n",
       "    </tr>\n",
       "    <tr>\n",
       "      <th>2</th>\n",
       "      <td>0</td>\n",
       "      <td>4397</td>\n",
       "      <td>31650.78</td>\n",
       "    </tr>\n",
       "    <tr>\n",
       "      <th>3</th>\n",
       "      <td>3</td>\n",
       "      <td>198</td>\n",
       "      <td>4040.88</td>\n",
       "    </tr>\n",
       "    <tr>\n",
       "      <th>4</th>\n",
       "      <td>3</td>\n",
       "      <td>59</td>\n",
       "      <td>942.34</td>\n",
       "    </tr>\n",
       "  </tbody>\n",
       "</table>\n",
       "</div>"
      ],
      "text/plain": [
       "                recency  frequency  monetary_value\n",
       "CustomerID_enc                                    \n",
       "0                   325          1        77183.60\n",
       "1                     2        103         4196.01\n",
       "2                     0       4397        31650.78\n",
       "3                     3        198         4040.88\n",
       "4                     3         59          942.34"
      ]
     },
     "execution_count": 46,
     "metadata": {},
     "output_type": "execute_result"
    }
   ],
   "source": [
    "rfmTable.head()"
   ]
  },
  {
   "cell_type": "markdown",
   "metadata": {},
   "source": [
    "Get those RFM data quentiles"
   ]
  },
  {
   "cell_type": "code",
   "execution_count": 47,
   "metadata": {},
   "outputs": [],
   "source": [
    "quantiles = rfmTable.quantile(q=[0.25,0.5,0.75])\n",
    "quantiles = quantiles.to_dict()"
   ]
  },
  {
   "cell_type": "markdown",
   "metadata": {},
   "source": [
    "Create a segmented table from the RFM table quentiles"
   ]
  },
  {
   "cell_type": "code",
   "execution_count": 48,
   "metadata": {},
   "outputs": [],
   "source": [
    "segmented_rfm = rfmTable"
   ]
  },
  {
   "cell_type": "code",
   "execution_count": 49,
   "metadata": {},
   "outputs": [],
   "source": [
    "def RScore(x,p,d):\n",
    "    if x <= d[p][0.25]:\n",
    "        return 1\n",
    "    elif x <= d[p][0.50]:\n",
    "        return 2\n",
    "    elif x <= d[p][0.75]: \n",
    "        return 3\n",
    "    else:\n",
    "        return 4\n",
    "    \n",
    "def FMScore(x,p,d):\n",
    "    if x <= d[p][0.25]:\n",
    "        return 4\n",
    "    elif x <= d[p][0.50]:\n",
    "        return 3\n",
    "    elif x <= d[p][0.75]: \n",
    "        return 2\n",
    "    else:\n",
    "        return 1"
   ]
  },
  {
   "cell_type": "code",
   "execution_count": 50,
   "metadata": {},
   "outputs": [],
   "source": [
    "segmented_rfm['r_quartile'] = segmented_rfm['recency'].apply(RScore, args=('recency',quantiles,))\n",
    "segmented_rfm['f_quartile'] = segmented_rfm['frequency'].apply(FMScore, args=('frequency',quantiles,))\n",
    "segmented_rfm['m_quartile'] = segmented_rfm['monetary_value'].apply(FMScore, args=('monetary_value',quantiles,))"
   ]
  },
  {
   "cell_type": "code",
   "execution_count": 51,
   "metadata": {},
   "outputs": [
    {
     "data": {
      "text/html": [
       "<div>\n",
       "<style scoped>\n",
       "    .dataframe tbody tr th:only-of-type {\n",
       "        vertical-align: middle;\n",
       "    }\n",
       "\n",
       "    .dataframe tbody tr th {\n",
       "        vertical-align: top;\n",
       "    }\n",
       "\n",
       "    .dataframe thead th {\n",
       "        text-align: right;\n",
       "    }\n",
       "</style>\n",
       "<table border=\"1\" class=\"dataframe\">\n",
       "  <thead>\n",
       "    <tr style=\"text-align: right;\">\n",
       "      <th></th>\n",
       "      <th>recency</th>\n",
       "      <th>frequency</th>\n",
       "      <th>monetary_value</th>\n",
       "      <th>r_quartile</th>\n",
       "      <th>f_quartile</th>\n",
       "      <th>m_quartile</th>\n",
       "    </tr>\n",
       "    <tr>\n",
       "      <th>CustomerID_enc</th>\n",
       "      <th></th>\n",
       "      <th></th>\n",
       "      <th></th>\n",
       "      <th></th>\n",
       "      <th></th>\n",
       "      <th></th>\n",
       "    </tr>\n",
       "  </thead>\n",
       "  <tbody>\n",
       "    <tr>\n",
       "      <th>0</th>\n",
       "      <td>325</td>\n",
       "      <td>1</td>\n",
       "      <td>77183.60</td>\n",
       "      <td>4</td>\n",
       "      <td>4</td>\n",
       "      <td>1</td>\n",
       "    </tr>\n",
       "    <tr>\n",
       "      <th>1</th>\n",
       "      <td>2</td>\n",
       "      <td>103</td>\n",
       "      <td>4196.01</td>\n",
       "      <td>1</td>\n",
       "      <td>1</td>\n",
       "      <td>1</td>\n",
       "    </tr>\n",
       "    <tr>\n",
       "      <th>2</th>\n",
       "      <td>0</td>\n",
       "      <td>4397</td>\n",
       "      <td>31650.78</td>\n",
       "      <td>1</td>\n",
       "      <td>1</td>\n",
       "      <td>1</td>\n",
       "    </tr>\n",
       "    <tr>\n",
       "      <th>3</th>\n",
       "      <td>3</td>\n",
       "      <td>198</td>\n",
       "      <td>4040.88</td>\n",
       "      <td>1</td>\n",
       "      <td>1</td>\n",
       "      <td>1</td>\n",
       "    </tr>\n",
       "    <tr>\n",
       "      <th>4</th>\n",
       "      <td>3</td>\n",
       "      <td>59</td>\n",
       "      <td>942.34</td>\n",
       "      <td>1</td>\n",
       "      <td>2</td>\n",
       "      <td>2</td>\n",
       "    </tr>\n",
       "  </tbody>\n",
       "</table>\n",
       "</div>"
      ],
      "text/plain": [
       "                recency  frequency  monetary_value  r_quartile  f_quartile  \\\n",
       "CustomerID_enc                                                               \n",
       "0                   325          1        77183.60           4           4   \n",
       "1                     2        103         4196.01           1           1   \n",
       "2                     0       4397        31650.78           1           1   \n",
       "3                     3        198         4040.88           1           1   \n",
       "4                     3         59          942.34           1           2   \n",
       "\n",
       "                m_quartile  \n",
       "CustomerID_enc              \n",
       "0                        1  \n",
       "1                        1  \n",
       "2                        1  \n",
       "3                        1  \n",
       "4                        2  "
      ]
     },
     "execution_count": 51,
     "metadata": {},
     "output_type": "execute_result"
    }
   ],
   "source": [
    "segmented_rfm.head()"
   ]
  },
  {
   "cell_type": "markdown",
   "metadata": {},
   "source": [
    "Combine RDF score into one value"
   ]
  },
  {
   "cell_type": "code",
   "execution_count": 52,
   "metadata": {},
   "outputs": [
    {
     "data": {
      "text/html": [
       "<div>\n",
       "<style scoped>\n",
       "    .dataframe tbody tr th:only-of-type {\n",
       "        vertical-align: middle;\n",
       "    }\n",
       "\n",
       "    .dataframe tbody tr th {\n",
       "        vertical-align: top;\n",
       "    }\n",
       "\n",
       "    .dataframe thead th {\n",
       "        text-align: right;\n",
       "    }\n",
       "</style>\n",
       "<table border=\"1\" class=\"dataframe\">\n",
       "  <thead>\n",
       "    <tr style=\"text-align: right;\">\n",
       "      <th></th>\n",
       "      <th>recency</th>\n",
       "      <th>frequency</th>\n",
       "      <th>monetary_value</th>\n",
       "      <th>r_quartile</th>\n",
       "      <th>f_quartile</th>\n",
       "      <th>m_quartile</th>\n",
       "      <th>RFMScore</th>\n",
       "    </tr>\n",
       "    <tr>\n",
       "      <th>CustomerID_enc</th>\n",
       "      <th></th>\n",
       "      <th></th>\n",
       "      <th></th>\n",
       "      <th></th>\n",
       "      <th></th>\n",
       "      <th></th>\n",
       "      <th></th>\n",
       "    </tr>\n",
       "  </thead>\n",
       "  <tbody>\n",
       "    <tr>\n",
       "      <th>0</th>\n",
       "      <td>325</td>\n",
       "      <td>1</td>\n",
       "      <td>77183.60</td>\n",
       "      <td>4</td>\n",
       "      <td>4</td>\n",
       "      <td>1</td>\n",
       "      <td>441</td>\n",
       "    </tr>\n",
       "    <tr>\n",
       "      <th>1</th>\n",
       "      <td>2</td>\n",
       "      <td>103</td>\n",
       "      <td>4196.01</td>\n",
       "      <td>1</td>\n",
       "      <td>1</td>\n",
       "      <td>1</td>\n",
       "      <td>111</td>\n",
       "    </tr>\n",
       "    <tr>\n",
       "      <th>2</th>\n",
       "      <td>0</td>\n",
       "      <td>4397</td>\n",
       "      <td>31650.78</td>\n",
       "      <td>1</td>\n",
       "      <td>1</td>\n",
       "      <td>1</td>\n",
       "      <td>111</td>\n",
       "    </tr>\n",
       "    <tr>\n",
       "      <th>3</th>\n",
       "      <td>3</td>\n",
       "      <td>198</td>\n",
       "      <td>4040.88</td>\n",
       "      <td>1</td>\n",
       "      <td>1</td>\n",
       "      <td>1</td>\n",
       "      <td>111</td>\n",
       "    </tr>\n",
       "    <tr>\n",
       "      <th>4</th>\n",
       "      <td>3</td>\n",
       "      <td>59</td>\n",
       "      <td>942.34</td>\n",
       "      <td>1</td>\n",
       "      <td>2</td>\n",
       "      <td>2</td>\n",
       "      <td>122</td>\n",
       "    </tr>\n",
       "  </tbody>\n",
       "</table>\n",
       "</div>"
      ],
      "text/plain": [
       "                recency  frequency  monetary_value  r_quartile  f_quartile  \\\n",
       "CustomerID_enc                                                               \n",
       "0                   325          1        77183.60           4           4   \n",
       "1                     2        103         4196.01           1           1   \n",
       "2                     0       4397        31650.78           1           1   \n",
       "3                     3        198         4040.88           1           1   \n",
       "4                     3         59          942.34           1           2   \n",
       "\n",
       "                m_quartile RFMScore  \n",
       "CustomerID_enc                       \n",
       "0                        1      441  \n",
       "1                        1      111  \n",
       "2                        1      111  \n",
       "3                        1      111  \n",
       "4                        2      122  "
      ]
     },
     "execution_count": 52,
     "metadata": {},
     "output_type": "execute_result"
    }
   ],
   "source": [
    "segmented_rfm['RFMScore'] = segmented_rfm.r_quartile.map(str) + segmented_rfm.f_quartile.map(str) + segmented_rfm.m_quartile.map(str)\n",
    "segmented_rfm.head()"
   ]
  },
  {
   "cell_type": "markdown",
   "metadata": {},
   "source": [
    "Save dataframe for clustering"
   ]
  },
  {
   "cell_type": "code",
   "execution_count": 53,
   "metadata": {},
   "outputs": [],
   "source": [
    "segmented_rfm.to_csv(\"data/customers_rfm.csv\", index=False)"
   ]
  },
  {
   "cell_type": "markdown",
   "metadata": {},
   "source": [
    "## 5.3) New Dataset by customer : Bulk and Wealthy buyers"
   ]
  },
  {
   "cell_type": "code",
   "execution_count": 54,
   "metadata": {},
   "outputs": [
    {
     "data": {
      "text/html": [
       "<div>\n",
       "<style scoped>\n",
       "    .dataframe tbody tr th:only-of-type {\n",
       "        vertical-align: middle;\n",
       "    }\n",
       "\n",
       "    .dataframe tbody tr th {\n",
       "        vertical-align: top;\n",
       "    }\n",
       "\n",
       "    .dataframe thead th {\n",
       "        text-align: right;\n",
       "    }\n",
       "</style>\n",
       "<table border=\"1\" class=\"dataframe\">\n",
       "  <thead>\n",
       "    <tr style=\"text-align: right;\">\n",
       "      <th></th>\n",
       "      <th>Amount</th>\n",
       "      <th>Bulk</th>\n",
       "    </tr>\n",
       "    <tr>\n",
       "      <th>CustomerID_enc</th>\n",
       "      <th></th>\n",
       "      <th></th>\n",
       "    </tr>\n",
       "  </thead>\n",
       "  <tbody>\n",
       "    <tr>\n",
       "      <th>0</th>\n",
       "      <td>77183.600000</td>\n",
       "      <td>36379.901961</td>\n",
       "    </tr>\n",
       "    <tr>\n",
       "      <th>1</th>\n",
       "      <td>40.737961</td>\n",
       "      <td>3.524379</td>\n",
       "    </tr>\n",
       "    <tr>\n",
       "      <th>2</th>\n",
       "      <td>7.198267</td>\n",
       "      <td>3.167508</td>\n",
       "    </tr>\n",
       "    <tr>\n",
       "      <th>3</th>\n",
       "      <td>20.408485</td>\n",
       "      <td>2.778461</td>\n",
       "    </tr>\n",
       "    <tr>\n",
       "      <th>4</th>\n",
       "      <td>15.971864</td>\n",
       "      <td>6.182251</td>\n",
       "    </tr>\n",
       "  </tbody>\n",
       "</table>\n",
       "</div>"
      ],
      "text/plain": [
       "                      Amount          Bulk\n",
       "CustomerID_enc                            \n",
       "0               77183.600000  36379.901961\n",
       "1                  40.737961      3.524379\n",
       "2                   7.198267      3.167508\n",
       "3                  20.408485      2.778461\n",
       "4                  15.971864      6.182251"
      ]
     },
     "execution_count": 54,
     "metadata": {},
     "output_type": "execute_result"
    }
   ],
   "source": [
    "customer_bulk_df = data_stock_codes.groupby('CustomerID_enc').agg({'Amount': lambda x: x.mean(),\n",
    "                                                                   'Bulk': lambda x: x.mean()})\n",
    "customer_bulk_df.head()"
   ]
  },
  {
   "cell_type": "markdown",
   "metadata": {},
   "source": [
    "Looking for outliers"
   ]
  },
  {
   "cell_type": "code",
   "execution_count": 55,
   "metadata": {},
   "outputs": [
    {
     "data": {
      "image/png": "[encoded data removed]",
      "text/plain": [
       "<Figure size 432x288 with 1 Axes>"
      ]
     },
     "metadata": {},
     "output_type": "display_data"
    }
   ],
   "source": [
    "plt.scatter(customer_bulk_df.index.values, customer_bulk_df.Bulk);"
   ]
  },
  {
   "cell_type": "markdown",
   "metadata": {},
   "source": [
    "One outlier in bulk ranking\n",
    "\n",
    "Let's delete it"
   ]
  },
  {
   "cell_type": "code",
   "execution_count": 57,
   "metadata": {},
   "outputs": [],
   "source": [
    "# From main df :\n",
    "customers_to_drop = customer_bulk_df[customer_bulk_df.Bulk > 30000].index.values\n",
    "data_stock_codes = data_stock_codes[~data_stock_codes.CustomerID_enc.isin(customers_to_drop)]\n",
    "# From bulk df :\n",
    "customer_bulk_df = customer_bulk_df[customer_bulk_df.Bulk < 30000]"
   ]
  },
  {
   "cell_type": "markdown",
   "metadata": {},
   "source": [
    "Checking"
   ]
  },
  {
   "cell_type": "code",
   "execution_count": 58,
   "metadata": {},
   "outputs": [
    {
     "data": {
      "image/png": "[encoded data removed]",
      "text/plain": [
       "<Figure size 432x288 with 1 Axes>"
      ]
     },
     "metadata": {},
     "output_type": "display_data"
    }
   ],
   "source": [
    "plt.scatter(customer_bulk_df.index.values, customer_bulk_df.Bulk);"
   ]
  },
  {
   "cell_type": "markdown",
   "metadata": {},
   "source": [
    "What about amount ranking ?"
   ]
  },
  {
   "cell_type": "code",
   "execution_count": 59,
   "metadata": {},
   "outputs": [
    {
     "data": {
      "image/png": "[encoded data removed]",
      "text/plain": [
       "<Figure size 432x288 with 1 Axes>"
      ]
     },
     "metadata": {},
     "output_type": "display_data"
    }
   ],
   "source": [
    "plt.scatter(customer_bulk_df.index.values, customer_bulk_df.Amount);"
   ]
  },
  {
   "cell_type": "markdown",
   "metadata": {},
   "source": [
    "Two outliers in Amount ranking\n",
    "\n",
    "Let's delete those"
   ]
  },
  {
   "cell_type": "code",
   "execution_count": 60,
   "metadata": {},
   "outputs": [],
   "source": [
    "# From main df :\n",
    "customers_to_drop = customer_bulk_df[customer_bulk_df.Amount > 10000].index.values\n",
    "data_stock_codes = data_stock_codes[~data_stock_codes.CustomerID_enc.isin(customers_to_drop)]\n",
    "# From bulk df :\n",
    "customer_bulk_df = customer_bulk_df[customer_bulk_df.Amount < 10000]"
   ]
  },
  {
   "cell_type": "markdown",
   "metadata": {},
   "source": [
    "Checking"
   ]
  },
  {
   "cell_type": "code",
   "execution_count": 61,
   "metadata": {},
   "outputs": [
    {
     "data": {
      "image/png": "[encoded data removed]",
      "text/plain": [
       "<Figure size 432x288 with 1 Axes>"
      ]
     },
     "metadata": {},
     "output_type": "display_data"
    }
   ],
   "source": [
    "plt.scatter(customer_bulk_df.index.values, customer_bulk_df.Amount);"
   ]
  },
  {
   "cell_type": "code",
   "execution_count": 62,
   "metadata": {},
   "outputs": [
    {
     "data": {
      "image/png": "[encoded data removed]",
      "text/plain": [
       "<Figure size 432x288 with 1 Axes>"
      ]
     },
     "metadata": {},
     "output_type": "display_data"
    }
   ],
   "source": [
    "plt.scatter(customer_bulk_df.index.values, customer_bulk_df.Bulk);"
   ]
  },
  {
   "cell_type": "markdown",
   "metadata": {},
   "source": [
    "Save dataframe for clustering"
   ]
  },
  {
   "cell_type": "code",
   "execution_count": 63,
   "metadata": {},
   "outputs": [],
   "source": [
    "customer_bulk_df.to_csv(\"data/customer_bulk.csv\", index=True)"
   ]
  },
  {
   "cell_type": "markdown",
   "metadata": {},
   "source": [
    "Saving the clean dataframe for classification algorithms"
   ]
  },
  {
   "cell_type": "code",
   "execution_count": 64,
   "metadata": {},
   "outputs": [],
   "source": [
    "data_stock_codes.to_csv(\"data/online_retail_clean.csv\", index=False)"
   ]
  }
 ],
 "metadata": {
  "kernelspec": {
   "display_name": "Python 3",
   "language": "python",
   "name": "python3"
  },
  "language_info": {
   "codemirror_mode": {
    "name": "ipython",
    "version": 3
   },
   "file_extension": ".py",
   "mimetype": "text/x-python",
   "name": "python",
   "nbconvert_exporter": "python",
   "pygments_lexer": "ipython3",
   "version": "3.6.5"
  }
 },
 "nbformat": 4,
 "nbformat_minor": 2
}
